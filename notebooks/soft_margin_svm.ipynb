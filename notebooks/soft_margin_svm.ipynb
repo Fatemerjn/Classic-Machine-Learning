{
  "cells": [
    {
      "cell_type": "markdown",
      "metadata": {
        "id": "rB6dhigmAobD"
      },
      "source": [
        "**Soft margin support vector**\n"
      ]
    },
    {
      "cell_type": "code",
      "execution_count": 1,
      "metadata": {
        "colab": {
          "base_uri": "https://localhost:8080/",
          "height": 179
        },
        "id": "X789ru5nVwRf",
        "outputId": "2b98744f-75cb-4454-f150-7cf7dc4591b8"
      },
      "outputs": [
        {
          "output_type": "display_data",
          "data": {
            "text/plain": [
              "<IPython.core.display.HTML object>"
            ],
            "text/html": [
              "\n",
              "     <input type=\"file\" id=\"files-870db64f-5e8b-48d5-bbc3-20ab38030a0d\" name=\"files[]\" multiple disabled\n",
              "        style=\"border:none\" />\n",
              "     <output id=\"result-870db64f-5e8b-48d5-bbc3-20ab38030a0d\">\n",
              "      Upload widget is only available when the cell has been executed in the\n",
              "      current browser session. Please rerun this cell to enable.\n",
              "      </output>\n",
              "      <script>// Copyright 2017 Google LLC\n",
              "//\n",
              "// Licensed under the Apache License, Version 2.0 (the \"License\");\n",
              "// you may not use this file except in compliance with the License.\n",
              "// You may obtain a copy of the License at\n",
              "//\n",
              "//      http://www.apache.org/licenses/LICENSE-2.0\n",
              "//\n",
              "// Unless required by applicable law or agreed to in writing, software\n",
              "// distributed under the License is distributed on an \"AS IS\" BASIS,\n",
              "// WITHOUT WARRANTIES OR CONDITIONS OF ANY KIND, either express or implied.\n",
              "// See the License for the specific language governing permissions and\n",
              "// limitations under the License.\n",
              "\n",
              "/**\n",
              " * @fileoverview Helpers for google.colab Python module.\n",
              " */\n",
              "(function(scope) {\n",
              "function span(text, styleAttributes = {}) {\n",
              "  const element = document.createElement('span');\n",
              "  element.textContent = text;\n",
              "  for (const key of Object.keys(styleAttributes)) {\n",
              "    element.style[key] = styleAttributes[key];\n",
              "  }\n",
              "  return element;\n",
              "}\n",
              "\n",
              "// Max number of bytes which will be uploaded at a time.\n",
              "const MAX_PAYLOAD_SIZE = 100 * 1024;\n",
              "\n",
              "function _uploadFiles(inputId, outputId) {\n",
              "  const steps = uploadFilesStep(inputId, outputId);\n",
              "  const outputElement = document.getElementById(outputId);\n",
              "  // Cache steps on the outputElement to make it available for the next call\n",
              "  // to uploadFilesContinue from Python.\n",
              "  outputElement.steps = steps;\n",
              "\n",
              "  return _uploadFilesContinue(outputId);\n",
              "}\n",
              "\n",
              "// This is roughly an async generator (not supported in the browser yet),\n",
              "// where there are multiple asynchronous steps and the Python side is going\n",
              "// to poll for completion of each step.\n",
              "// This uses a Promise to block the python side on completion of each step,\n",
              "// then passes the result of the previous step as the input to the next step.\n",
              "function _uploadFilesContinue(outputId) {\n",
              "  const outputElement = document.getElementById(outputId);\n",
              "  const steps = outputElement.steps;\n",
              "\n",
              "  const next = steps.next(outputElement.lastPromiseValue);\n",
              "  return Promise.resolve(next.value.promise).then((value) => {\n",
              "    // Cache the last promise value to make it available to the next\n",
              "    // step of the generator.\n",
              "    outputElement.lastPromiseValue = value;\n",
              "    return next.value.response;\n",
              "  });\n",
              "}\n",
              "\n",
              "/**\n",
              " * Generator function which is called between each async step of the upload\n",
              " * process.\n",
              " * @param {string} inputId Element ID of the input file picker element.\n",
              " * @param {string} outputId Element ID of the output display.\n",
              " * @return {!Iterable<!Object>} Iterable of next steps.\n",
              " */\n",
              "function* uploadFilesStep(inputId, outputId) {\n",
              "  const inputElement = document.getElementById(inputId);\n",
              "  inputElement.disabled = false;\n",
              "\n",
              "  const outputElement = document.getElementById(outputId);\n",
              "  outputElement.innerHTML = '';\n",
              "\n",
              "  const pickedPromise = new Promise((resolve) => {\n",
              "    inputElement.addEventListener('change', (e) => {\n",
              "      resolve(e.target.files);\n",
              "    });\n",
              "  });\n",
              "\n",
              "  const cancel = document.createElement('button');\n",
              "  inputElement.parentElement.appendChild(cancel);\n",
              "  cancel.textContent = 'Cancel upload';\n",
              "  const cancelPromise = new Promise((resolve) => {\n",
              "    cancel.onclick = () => {\n",
              "      resolve(null);\n",
              "    };\n",
              "  });\n",
              "\n",
              "  // Wait for the user to pick the files.\n",
              "  const files = yield {\n",
              "    promise: Promise.race([pickedPromise, cancelPromise]),\n",
              "    response: {\n",
              "      action: 'starting',\n",
              "    }\n",
              "  };\n",
              "\n",
              "  cancel.remove();\n",
              "\n",
              "  // Disable the input element since further picks are not allowed.\n",
              "  inputElement.disabled = true;\n",
              "\n",
              "  if (!files) {\n",
              "    return {\n",
              "      response: {\n",
              "        action: 'complete',\n",
              "      }\n",
              "    };\n",
              "  }\n",
              "\n",
              "  for (const file of files) {\n",
              "    const li = document.createElement('li');\n",
              "    li.append(span(file.name, {fontWeight: 'bold'}));\n",
              "    li.append(span(\n",
              "        `(${file.type || 'n/a'}) - ${file.size} bytes, ` +\n",
              "        `last modified: ${\n",
              "            file.lastModifiedDate ? file.lastModifiedDate.toLocaleDateString() :\n",
              "                                    'n/a'} - `));\n",
              "    const percent = span('0% done');\n",
              "    li.appendChild(percent);\n",
              "\n",
              "    outputElement.appendChild(li);\n",
              "\n",
              "    const fileDataPromise = new Promise((resolve) => {\n",
              "      const reader = new FileReader();\n",
              "      reader.onload = (e) => {\n",
              "        resolve(e.target.result);\n",
              "      };\n",
              "      reader.readAsArrayBuffer(file);\n",
              "    });\n",
              "    // Wait for the data to be ready.\n",
              "    let fileData = yield {\n",
              "      promise: fileDataPromise,\n",
              "      response: {\n",
              "        action: 'continue',\n",
              "      }\n",
              "    };\n",
              "\n",
              "    // Use a chunked sending to avoid message size limits. See b/62115660.\n",
              "    let position = 0;\n",
              "    do {\n",
              "      const length = Math.min(fileData.byteLength - position, MAX_PAYLOAD_SIZE);\n",
              "      const chunk = new Uint8Array(fileData, position, length);\n",
              "      position += length;\n",
              "\n",
              "      const base64 = btoa(String.fromCharCode.apply(null, chunk));\n",
              "      yield {\n",
              "        response: {\n",
              "          action: 'append',\n",
              "          file: file.name,\n",
              "          data: base64,\n",
              "        },\n",
              "      };\n",
              "\n",
              "      let percentDone = fileData.byteLength === 0 ?\n",
              "          100 :\n",
              "          Math.round((position / fileData.byteLength) * 100);\n",
              "      percent.textContent = `${percentDone}% done`;\n",
              "\n",
              "    } while (position < fileData.byteLength);\n",
              "  }\n",
              "\n",
              "  // All done.\n",
              "  yield {\n",
              "    response: {\n",
              "      action: 'complete',\n",
              "    }\n",
              "  };\n",
              "}\n",
              "\n",
              "scope.google = scope.google || {};\n",
              "scope.google.colab = scope.google.colab || {};\n",
              "scope.google.colab._files = {\n",
              "  _uploadFiles,\n",
              "  _uploadFilesContinue,\n",
              "};\n",
              "})(self);\n",
              "</script> "
            ]
          },
          "metadata": {}
        },
        {
          "output_type": "stream",
          "name": "stdout",
          "text": [
            "Saving satimage.scale.t to satimage.scale.t\n",
            "Saving satimage.scale to satimage.scale\n",
            "Saving satimage.scale.tr to satimage.scale.tr\n",
            "Saving satimage.scale.val to satimage.scale.val\n"
          ]
        }
      ],
      "source": [
        "from google.colab import files\n",
        "uploaded = files.upload()"
      ]
    },
    {
      "cell_type": "markdown",
      "metadata": {
        "id": "qXTSIwJGfNjB"
      },
      "source": [
        "***Question 1***"
      ]
    },
    {
      "cell_type": "markdown",
      "metadata": {
        "id": "-YoxkDXHWM3M"
      },
      "source": [
        "Step 1: Load and Preprocess the Dataset and Implement the SVM Classifier"
      ]
    },
    {
      "cell_type": "code",
      "execution_count": 2,
      "metadata": {
        "colab": {
          "base_uri": "https://localhost:8080/"
        },
        "id": "qUFzom5OCZxY",
        "outputId": "c1fe5c1d-c967-48f1-b674-9adee6be1f8a"
      },
      "outputs": [
        {
          "output_type": "stream",
          "name": "stdout",
          "text": [
            "Accuracy on the test set: 0.801762114537445\n"
          ]
        }
      ],
      "source": [
        "import numpy as np\n",
        "from sklearn.datasets import load_svmlight_file\n",
        "from cvxopt import matrix, solvers\n",
        "\n",
        "# Load the data\n",
        "X_train, y_train = load_svmlight_file('satimage.scale.tr')\n",
        "X_val, y_val = load_svmlight_file('satimage.scale.val')\n",
        "X_test, y_test = load_svmlight_file('satimage.scale.t')\n",
        "\n",
        "# Convert to dense format as cvxopt does not support sparse matrices\n",
        "X_train = X_train.toarray()\n",
        "X_val = X_val.toarray()\n",
        "X_test = X_test.toarray()\n",
        "\n",
        "def filter_classes(data, labels, class1, class2):\n",
        "    filter_mask = (labels == class1) | (labels == class2)\n",
        "    filtered_data = data[filter_mask]\n",
        "    filtered_labels = np.where(labels[filter_mask] == class1, 1, -1)\n",
        "    return filtered_data, filtered_labels\n",
        "\n",
        "X_train_filtered, y_train_filtered = filter_classes(X_train, y_train, 4, 6)\n",
        "X_test_filtered, y_test_filtered = filter_classes(X_test, y_test, 4, 6)\n",
        "\n",
        "def formulate_qp_problem(data, labels, C=1.0):\n",
        "    n_samples, n_features = data.shape\n",
        "    P = matrix(np.outer(labels, labels) * np.dot(data, data.T))\n",
        "    q = matrix(-np.ones((n_samples, 1)))\n",
        "    G = matrix(np.vstack((-np.eye(n_samples), np.eye(n_samples))))\n",
        "    h = matrix(np.hstack((np.zeros(n_samples), np.ones(n_samples) * C)))\n",
        "    A = matrix(labels.reshape(1, -1).astype(np.double))\n",
        "    b = matrix(np.zeros(1))\n",
        "    return P, q, G, h, A, b\n",
        "\n",
        "\n",
        "def construct_classifier(data, labels, alphas):\n",
        "    support_vectors = data[alphas > 1e-4]\n",
        "    support_labels = labels[alphas > 1e-4]\n",
        "    alphas_sv = alphas[alphas > 1e-4]\n",
        "    w = np.sum((alphas_sv * support_labels)[:, np.newaxis] * support_vectors, axis=0)\n",
        "    b = np.mean(support_labels - np.dot(support_vectors, w))\n",
        "    return w, b\n",
        "\n",
        "\n",
        "def predict(data, w, b):\n",
        "    return np.sign(np.dot(data, w) + b)\n",
        "\n",
        "def calculate_accuracy(predictions, labels):\n",
        "    return np.mean(predictions == labels)\n",
        "\n",
        "P, q, G, h, A, b = formulate_qp_problem(X_train_filtered, y_train_filtered)\n",
        "solvers.options['show_progress'] = False\n",
        "solution = solvers.qp(P, q, G, h, A, b)\n",
        "alphas = np.array(solution['x']).flatten()\n",
        "\n",
        "w, b = construct_classifier(X_train_filtered, y_train_filtered, alphas)\n",
        "\n",
        "test_predictions = predict(X_test_filtered, w, b)\n",
        "accuracy = calculate_accuracy(test_predictions, y_test_filtered)\n",
        "print(\"Accuracy on the test set:\", accuracy)\n"
      ]
    },
    {
      "cell_type": "markdown",
      "metadata": {
        "id": "BTJOZN2EHZBg"
      },
      "source": [
        "Step 2: Confusion matrix and evaluating the SVM Classifier\n"
      ]
    },
    {
      "cell_type": "code",
      "execution_count": 3,
      "metadata": {
        "colab": {
          "base_uri": "https://localhost:8080/"
        },
        "id": "HdCR4QrsFe4e",
        "outputId": "ee24045e-5b57-4606-f817-e2bcda95370d"
      },
      "outputs": [
        {
          "output_type": "stream",
          "name": "stdout",
          "text": [
            "Confusion Matrix:\n",
            " [[400  70]\n",
            " [ 65 146]]\n",
            "\n",
            "Classification Report:\n",
            "               precision    recall  f1-score   support\n",
            "\n",
            "     Class 4       0.86      0.85      0.86       470\n",
            "     Class 6       0.68      0.69      0.68       211\n",
            "\n",
            "    accuracy                           0.80       681\n",
            "   macro avg       0.77      0.77      0.77       681\n",
            "weighted avg       0.80      0.80      0.80       681\n",
            "\n",
            "Balanced Accuracy: 0.7715034788746598\n"
          ]
        }
      ],
      "source": [
        "from sklearn.metrics import confusion_matrix, classification_report, accuracy_score\n",
        "\n",
        "def balanced_accuracy(conf_matrix):\n",
        "    class_accuracies = conf_matrix.diagonal() / conf_matrix.sum(axis=1)\n",
        "    return np.mean(class_accuracies)\n",
        "\n",
        "test_predictions = predict(X_test_filtered, w, b)\n",
        "\n",
        "conf_matrix = confusion_matrix(y_test_filtered, test_predictions)\n",
        "\n",
        "print(\"Confusion Matrix:\\n\", conf_matrix)\n",
        "\n",
        "print(\"\\nClassification Report:\\n\", classification_report(y_test_filtered, test_predictions, target_names=['Class 4', 'Class 6']))\n",
        "\n",
        "bal_acc = balanced_accuracy(conf_matrix)\n",
        "print(\"Balanced Accuracy:\", bal_acc)\n"
      ]
    },
    {
      "cell_type": "markdown",
      "metadata": {
        "id": "QKytpYj9ff0Z"
      },
      "source": [
        "**Question 2**"
      ]
    },
    {
      "cell_type": "markdown",
      "metadata": {
        "id": "4Ef8U24bv6Rw"
      },
      "source": [
        "Step 1: Import Libraries and Define RBF Kernel Function"
      ]
    },
    {
      "cell_type": "code",
      "execution_count": 4,
      "metadata": {
        "id": "KztIcTcU4AaR"
      },
      "outputs": [],
      "source": [
        "import numpy as np\n",
        "from sklearn.datasets import load_svmlight_file\n",
        "from cvxopt import matrix, solvers\n",
        "from sklearn.model_selection import KFold\n",
        "from sklearn.metrics import confusion_matrix, classification_report\n",
        "\n",
        "X_train, y_train = load_svmlight_file('satimage.scale.tr')\n",
        "X_val, y_val = load_svmlight_file('satimage.scale.val')\n",
        "X_test, y_test = load_svmlight_file('satimage.scale.t')\n",
        "\n",
        "def rbf_kernel(x1, x2, gamma):\n",
        "    return np.exp(-gamma * np.linalg.norm(x1 - x2, axis=1) ** 2)"
      ]
    },
    {
      "cell_type": "markdown",
      "metadata": {
        "id": "kdfqjs-X4McR"
      },
      "source": [
        "Step 2: Formulate QP Problem with RBF Kernel"
      ]
    },
    {
      "cell_type": "code",
      "execution_count": 5,
      "metadata": {
        "id": "IJWQkifJ4atS"
      },
      "outputs": [],
      "source": [
        "def formulate_qp_rbf(data, labels, C, gamma):\n",
        "    n_samples, n_features = data.shape\n",
        "    K = np.zeros((n_samples, n_samples))\n",
        "    for i in range(n_samples):\n",
        "        K[i, :] = rbf_kernel(data[i], data, gamma)\n",
        "    P = matrix(np.outer(labels, labels) * K)\n",
        "    q = matrix(-np.ones((n_samples, 1)))\n",
        "    G = matrix(np.vstack((-np.eye(n_samples), np.eye(n_samples))))\n",
        "    h = matrix(np.hstack((np.zeros(n_samples), np.ones(n_samples) * C)))\n",
        "    A = matrix(labels.reshape(1, -1).astype(np.double))\n",
        "    b = matrix(np.zeros(1))\n",
        "\n",
        "    return P, q, G, h, A, b"
      ]
    },
    {
      "cell_type": "markdown",
      "metadata": {
        "id": "gP0Hom214fUp"
      },
      "source": [
        "Step 3: Cross-validation to find best C and gamma"
      ]
    },
    {
      "cell_type": "code",
      "execution_count": 6,
      "metadata": {
        "id": "M-S_CD3h4kkb"
      },
      "outputs": [],
      "source": [
        "kf = KFold(n_splits=5)\n",
        "best_accuracy = 0\n",
        "best_params = {'C': 1.0, 'gamma': 1.0}\n",
        "\n",
        "for C in [0.1, 1, 10]:\n",
        "    for gamma in [0.1, 1, 10]:\n",
        "        cv_accuracy = []\n",
        "        for train_index, val_index in kf.split(X_train_filtered):\n",
        "            X_train_cv, X_val_cv = X_train_filtered[train_index], X_train_filtered[val_index]\n",
        "            y_train_cv, y_val_cv = y_train_filtered[train_index], y_train_filtered[val_index]\n",
        "\n",
        "            P, q, G, h, A, b = formulate_qp_rbf(X_train_cv, y_train_cv, C, gamma)\n",
        "            solvers.options['show_progress'] = False\n",
        "            solution = solvers.qp(P, q, G, h, A, b)\n",
        "            alphas = np.array(solution['x']).flatten()\n",
        "\n",
        "            w, b = construct_classifier(X_train_cv, y_train_cv, alphas)\n",
        "            val_predictions = predict(X_val_cv, w, b)\n",
        "            cv_accuracy.append(calculate_accuracy(val_predictions, y_val_cv))\n",
        "\n",
        "        avg_accuracy = np.mean(cv_accuracy)\n",
        "        if avg_accuracy > best_accuracy:\n",
        "            best_accuracy = avg_accuracy\n",
        "            best_params = {'C': C, 'gamma': gamma}"
      ]
    },
    {
      "cell_type": "markdown",
      "metadata": {
        "id": "nGfFL3E84n5V"
      },
      "source": [
        "Step 4: Train final model with best hyperparameters"
      ]
    },
    {
      "cell_type": "code",
      "execution_count": 7,
      "metadata": {
        "id": "d78Ld3pR4uVx"
      },
      "outputs": [],
      "source": [
        "P, q, G, h, A, b = formulate_qp_rbf(X_train_filtered, y_train_filtered, **best_params)\n",
        "solution = solvers.qp(P, q, G, h, A, b)\n",
        "alphas = np.array(solution['x']).flatten()\n",
        "w, b = construct_classifier(X_train_filtered, y_train_filtered, alphas)\n",
        "\n",
        "def predict(data, w, b):\n",
        "    return np.sign(np.dot(data, w) + b)\n",
        "\n",
        "def calculate_balanced_accuracy(conf_matrix):\n",
        "    class_accuracies = conf_matrix.diagonal() / conf_matrix.sum(axis=1)\n",
        "    return np.mean(class_accuracies)\n",
        "\n",
        "test_predictions = predict(X_test_filtered, w, b)"
      ]
    },
    {
      "cell_type": "markdown",
      "metadata": {
        "id": "1PpDw68j5B_2"
      },
      "source": [
        "Step 5: display the result"
      ]
    },
    {
      "cell_type": "code",
      "execution_count": 8,
      "metadata": {
        "colab": {
          "base_uri": "https://localhost:8080/"
        },
        "id": "aQt6PzgMy_4x",
        "outputId": "b45a645f-f442-409e-8a20-63b4d62c2438"
      },
      "outputs": [
        {
          "output_type": "stream",
          "name": "stdout",
          "text": [
            "Confusion Matrix:\n",
            " [[361 109]\n",
            " [ 38 173]]\n",
            "Accuracy on the test set: 0.7841409691629956\n",
            "Balanced Accuracy: 0.7939951598265604\n"
          ]
        }
      ],
      "source": [
        "conf_matrix = confusion_matrix(y_test_filtered, test_predictions)\n",
        "print(\"Confusion Matrix:\\n\", conf_matrix)\n",
        "\n",
        "accuracy = calculate_accuracy(test_predictions, y_test_filtered)\n",
        "print(\"Accuracy on the test set:\", accuracy)\n",
        "\n",
        "bal_acc = calculate_balanced_accuracy(conf_matrix)\n",
        "print(\"Balanced Accuracy:\", bal_acc)"
      ]
    },
    {
      "cell_type": "markdown",
      "metadata": {
        "id": "OwJJrn0w7FAL"
      },
      "source": [
        "**Question 3**"
      ]
    },
    {
      "cell_type": "markdown",
      "metadata": {
        "id": "uPJq-JP2-zjz"
      },
      "source": [
        "Step 1: Load and Preprocess the Dataset"
      ]
    },
    {
      "cell_type": "code",
      "execution_count": 9,
      "metadata": {
        "id": "bSuEdCN_-1ew"
      },
      "outputs": [],
      "source": [
        "from sklearn.svm import SVC\n",
        "from sklearn.metrics import accuracy_score\n",
        "import numpy as np\n",
        "from sklearn.datasets import load_svmlight_file\n",
        "\n",
        "X_train, y_train = load_svmlight_file('satimage.scale.tr')\n",
        "X_val, y_val = load_svmlight_file('satimage.scale.val')\n",
        "X_test, y_test = load_svmlight_file('satimage.scale.t')\n",
        "\n",
        "X_train = X_train.toarray()\n",
        "X_val = X_val.toarray()\n",
        "X_test = X_test.toarray()"
      ]
    },
    {
      "cell_type": "markdown",
      "metadata": {
        "id": "QHFmC8GqBYzp"
      },
      "source": [
        "Step 2:Train a linear SVM classifier and Predict on the test set and calculate accuracy"
      ]
    },
    {
      "cell_type": "code",
      "execution_count": 10,
      "metadata": {
        "colab": {
          "base_uri": "https://localhost:8080/"
        },
        "id": "eDEWOTSnWTP9",
        "outputId": "27d7fc65-ab5e-4839-e228-fc07f370f7f1"
      },
      "outputs": [
        {
          "output_type": "stream",
          "name": "stdout",
          "text": [
            "Accuracy: 0.8615\n"
          ]
        }
      ],
      "source": [
        "svm_classifier = SVC(C=1, kernel='linear')\n",
        "\n",
        "svm_classifier.fit(X_train, y_train)\n",
        "y_pred = svm_classifier.predict(X_test)\n",
        "accuracy = accuracy_score(y_test, y_pred)\n",
        "print(f\"Accuracy: {accuracy}\")\n"
      ]
    },
    {
      "cell_type": "markdown",
      "metadata": {
        "id": "A3tJ9DUgB1Xs"
      },
      "source": [
        "Step 3:Best hyperparameters on validation set and calculate the accuracy on the test set"
      ]
    },
    {
      "cell_type": "code",
      "execution_count": 11,
      "metadata": {
        "colab": {
          "base_uri": "https://localhost:8080/"
        },
        "id": "fJM8Uqe6ZvHd",
        "outputId": "949b4f15-5f63-4f68-a5e0-84c067dfa79d"
      },
      "outputs": [
        {
          "output_type": "stream",
          "name": "stdout",
          "text": [
            "Best hyperparameters on validation set: {'C': 10, 'gamma': 1}\n",
            "Accuracy on the test set: 0.9045\n"
          ]
        }
      ],
      "source": [
        "C_values = [1, 10, 100]\n",
        "gamma_values = [0.001, 0.01, 0.1, 1]\n",
        "\n",
        "best_accuracy = 0\n",
        "best_params = {'C': None, 'gamma': None}\n",
        "\n",
        "for C in C_values:\n",
        "    for gamma in gamma_values:\n",
        "        svm_classifier = SVC(C=C, kernel='rbf', gamma=gamma)\n",
        "        svm_classifier.fit(X_train, y_train)\n",
        "\n",
        "        y_val_pred = svm_classifier.predict(X_val)\n",
        "        accuracy = accuracy_score(y_val, y_val_pred)\n",
        "\n",
        "        if accuracy > best_accuracy:\n",
        "            best_accuracy = accuracy\n",
        "            best_params = {'C': C, 'gamma': gamma}\n",
        "\n",
        "\n",
        "final_clf = SVC(C=best_params['C'], gamma=best_params['gamma'], kernel='rbf')\n",
        "final_clf.fit(X_train, y_train)\n",
        "\n",
        "test_predictions = final_clf.predict(X_test)\n",
        "test_accuracy = accuracy_score(y_test, test_predictions)\n",
        "\n",
        "\n",
        "print(f\"Best hyperparameters on validation set: {best_params}\")\n",
        "print(\"Accuracy on the test set:\", test_accuracy)"
      ]
    },
    {
      "cell_type": "markdown",
      "metadata": {
        "id": "KPjrFT-TCV30"
      },
      "source": [
        "Step 4:Calculate and print the confusion matrix and classification report and balanced accuracy"
      ]
    },
    {
      "cell_type": "code",
      "execution_count": 15,
      "metadata": {
        "colab": {
          "base_uri": "https://localhost:8080/"
        },
        "id": "Q_8oznNtiK3j",
        "outputId": "454afd54-397d-40b5-a42f-a08ba25cb28d"
      },
      "outputs": [
        {
          "output_type": "stream",
          "name": "stdout",
          "text": [
            "Confusion Matrix:\n",
            "[[454   1   2   0   4   0]\n",
            " [  0 219   1   0   3   1]\n",
            " [  3   1 371  16   1   5]\n",
            " [  0   3  33 138   1  36]\n",
            " [  3   4   1   2 218   9]\n",
            " [  1   1  15  31  13 409]]\n",
            "\n",
            "Classification Report:\n",
            "              precision    recall  f1-score   support\n",
            "\n",
            "     Class 1       0.98      0.98      0.98       461\n",
            "     Class 2       0.96      0.98      0.97       224\n",
            "     Class 3       0.88      0.93      0.90       397\n",
            "     Class 4       0.74      0.65      0.69       211\n",
            "     Class 5       0.91      0.92      0.91       237\n",
            "     Class 6       0.89      0.87      0.88       470\n",
            "\n",
            "    accuracy                           0.90      2000\n",
            "   macro avg       0.89      0.89      0.89      2000\n",
            "weighted avg       0.90      0.90      0.90      2000\n",
            "\n",
            "\n",
            "Balanced Accuracy: 0.8902\n"
          ]
        }
      ],
      "source": [
        "from sklearn.metrics import confusion_matrix, classification_report, balanced_accuracy_score\n",
        "\n",
        "conf_matrix = confusion_matrix(y_test, test_predictions)\n",
        "\n",
        "class_report = classification_report(y_test, test_predictions, target_names=['Class 1', 'Class 2', 'Class 3', 'Class 4', 'Class 5', 'Class 6'])\n",
        "\n",
        "balanced_acc = balanced_accuracy_score(y_test, test_predictions)\n",
        "\n",
        "print(\"Confusion Matrix:\")\n",
        "print(conf_matrix)\n",
        "print(\"\\nClassification Report:\")\n",
        "print(class_report)\n",
        "print(f\"\\nBalanced Accuracy: {balanced_acc:.4f}\")\n"
      ]
    },
    {
      "cell_type": "markdown",
      "metadata": {
        "id": "j9ptFTNDEJWa"
      },
      "source": [
        "<div dir=\"rtl\" style=\"font-family: BNazanin; text-align: justify;\">\n",
        "در فرآیند انتخاب مقادیر خاص برای پارامترهای هایپرپارامتر مانند `C` و `gamma` در SVM با هسته RBF، ابتدا با یک دامنه گسترده از مقادیر شروع می‌کنیم تا درک کنیم که چگونه مدل به این پارامترها حساس است. سپس، برای هر ترکیب از `C` و `gamma`، یک مدل SVM روی داده‌های آموزشی آموزش داده می‌شود و عملکرد آن‌ها روی داده‌های اعتبارسنجی بررسی می‌شود.\n",
        "\n",
        "اگر با افزایش `C` دقت بهبود یابد، ممکن است نشان دهنده کمبود تنظیم در مقادیر کمتر `C` باشد. همچنین، اگر با افزایش `gamma` دقت کاهش یابد، ممکن است نشان دهنده بیش‌تنظیمی مدل و حساسیت بیش از حد به نویز در داده‌ها باشد.\n",
        "\n",
        "با توجه به نتایج اولیه، دامنه‌های `C` و `gamma را برای یافتن بهترین ترکیب تنظیم می‌کنیم. پس از یافتن بهترین پارامترها، مدل نهایی روی داده‌های تست برای ارزیابی عملکرد آن در مقابله با داده‌های دیده نشده ارزیابی می‌شود. این فرآیند کاملاً تجربی و تکراری است و بسیار بستگی به نتایج تجربی از ارزیابی‌های مدل روی داده‌های اعتبارسنجی دارد.\n",
        "</div>\n",
        "\n",
        "\n",
        "\n",
        "\n",
        "\n"
      ]
    },
    {
      "cell_type": "markdown",
      "source": [
        "**Question 4**"
      ],
      "metadata": {
        "id": "G0_qF_dKJmNO"
      }
    },
    {
      "cell_type": "code",
      "source": [
        "from sklearn.datasets import load_svmlight_file\n",
        "from sklearn.svm import SVC\n",
        "from sklearn.metrics import accuracy_score\n",
        "from sklearn.preprocessing import StandardScaler\n",
        "\n",
        "X_train, y_train = load_svmlight_file('satimage.scale.tr')\n",
        "X_test, y_test = load_svmlight_file('satimage.scale.t')\n",
        "\n",
        "X_train = X_train.toarray()\n",
        "X_test = X_test.toarray()\n",
        "\n",
        "scaler = StandardScaler()\n",
        "X_train = scaler.fit_transform(X_train)\n",
        "X_test = scaler.transform(X_test)\n",
        "\n",
        "clf = SVC(kernel='rbf', C=1.0)\n",
        "\n",
        "clf.fit(X_train, y_train)\n",
        "\n",
        "y_pred = clf.predict(X_test)\n",
        "\n",
        "accuracy = accuracy_score(y_test, y_pred)\n",
        "print(\"Accuracy on the test data:\", accuracy)\n"
      ],
      "metadata": {
        "colab": {
          "base_uri": "https://localhost:8080/"
        },
        "id": "DmdG8Gw_Ji6w",
        "outputId": "4eb14786-4206-4d42-c49e-ebf634b4c818"
      },
      "execution_count": 17,
      "outputs": [
        {
          "output_type": "stream",
          "name": "stdout",
          "text": [
            "Accuracy on the test data: 0.889\n"
          ]
        }
      ]
    }
  ],
  "metadata": {
    "colab": {
      "provenance": []
    },
    "kernelspec": {
      "display_name": "Python 3",
      "name": "python3"
    },
    "language_info": {
      "name": "python"
    }
  },
  "nbformat": 4,
  "nbformat_minor": 0
}