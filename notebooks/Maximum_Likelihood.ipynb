{
 "cells": [
  {
   "cell_type": "markdown",
   "metadata": {
    "id": "K1-izC4ZKHJ9"
   },
   "source": [
    "<h1 style=\"text-align: center\">\n",
    "Machine Learning HW1 </br>\n",
    "MLE & MAP in Python\n",
    "</h1>\n",
    "\n",
    "#### Name: Fateme Raeijian\n",
    "\n",
    "#### Std. Number: 402203389"
   ]
  },
  {
   "cell_type": "markdown",
   "metadata": {
    "id": "YhTuYwHYbE_1"
   },
   "source": [
    "## Objective\n",
    "This exercise will help you gain a deeper understanding of, and insights into, Maximum Likelihood Estimation (MLE) and Maximum A Posteriori (MAP) estimation$\\textit{Maximum Likelihood Estimation (MLE) and Maximum A Posteriori (MAP) }$ :) \\\\\n",
    "Let’s say you have a barrel of apples that are all different sizes. You pick an apple at random, and you want to know its weight. Unfortunately, all you have is a broken scale. answer the questions below."
   ]
  },
  {
   "cell_type": "markdown",
   "metadata": {
    "id": "eSaLb6AYa9DJ"
   },
   "source": [
    "1) For the sake of this section, lets imagine a farmer tells you that the scale returns the weight of the object with an error of +/- a standard deviation of 5g. We can describe this mathematically as:\n",
    "$$\n",
    "measurement = weight + \\mathcal{N}(0, 5g)\n",
    "$$\n",
    "You can weigh the apple as many times as you want, so weigh it 100 times.\n",
    "plot its histogram of your 100 measurements. (y axis is the counts and x-axis is the measured weight)"
   ]
  },
  {
   "cell_type": "code",
   "execution_count": 3,
   "metadata": {},
   "outputs": [],
   "source": [
    "import numpy as np\n",
    "import matplotlib.pyplot as plt"
   ]
  },
  {
   "cell_type": "code",
   "execution_count": 27,
   "metadata": {
    "id": "hPMnHTcia07a"
   },
   "outputs": [
    {
     "data": {
      "image/png": "[encoded data removed]",
      "text/plain": [
       "<Figure size 640x480 with 1 Axes>"
      ]
     },
     "metadata": {},
     "output_type": "display_data"
    }
   ],
   "source": [
    "# Generate 100 measurements with a normal distribution\n",
    "weight = 100  # True weight of the apple\n",
    "error_std = 5  # Standard deviation of the measurement error\n",
    "measurements = np.random.normal(loc=weight, scale=error_std, size=100)\n",
    "\n",
    "# Plot the histogram\n",
    "plt.hist(measurements, bins=20)\n",
    "plt.xlabel('Measured Weight (g)')\n",
    "plt.ylabel('Counts')\n",
    "plt.title('Histogram of Measured Weights')\n",
    "plt.show()"
   ]
  },
  {
   "cell_type": "markdown",
   "metadata": {
    "id": "HD9Mqy-bcPi5"
   },
   "source": [
    "2) Find the average weight of the apple.\n",
    "Is it a good guess? state your reason.\n",
    "<br>\n",
    "\n",
    "<div dir=\"rtl\" style=\"font-family: BNazanin; text-align: justify;\">\n",
    "در این موقعیت، میانگین وزن سیب بر اساس 100 اندازه‌گیری، نزدیک به 100 (وزن واقعی در نظر گرفته شده برای سیب) است. با فرض توزیع نرمال با انحراف معیار 5 گرم برای خطاهای اندازه‌گیری، میانگین وزن یک تخمین مناسب از وزن واقعی سیب است. با این حال، باید محدودیت‌ها و احتمال وجود انحرافات و تغییرات ناشی از عملیات اندازه‌گیری و توزیع اصلی وزن سیب را در نظر بگیریم.\n",
    "</div>\n",
    "    "
   ]
  },
  {
   "cell_type": "code",
   "execution_count": 28,
   "metadata": {
    "id": "xlCBTC0lcPKa"
   },
   "outputs": [
    {
     "name": "stdout",
     "output_type": "stream",
     "text": [
      "Average weight: 99.9462332594963 g\n"
     ]
    }
   ],
   "source": [
    "import numpy as np\n",
    "\n",
    "average_weight = np.mean(measurements)\n",
    "print(\"Average weight:\", average_weight, \"g\")"
   ]
  },
  {
   "cell_type": "markdown",
   "metadata": {
    "id": "y-P9PJuKcrbq"
   },
   "source": [
    "3) we are going to use grid approximation for calculating the MLE. here is the link if you wnat to get more fimilar with this technique:\n",
    "https://www.bayesrulesbook.com/chapter-6\n",
    "\n",
    "Our end goal is to find the weight of the apple, given the data we have. To formulate it in a Bayesian way: We’ll ask what is the probability of the apple having weight, $w$, given the measurements we took, $X$. And, because we're formulating this in a Bayesian way, we use Bayes’ Law to find the answer:\n",
    "\n",
    "$$\n",
    "P(w|X) = \\frac{P(X|w)P(w)}{P(X)}\n",
    "$$\n",
    "\n",
    "If we make no assumptions about the initial weight of our apple, then we can drop $P(w)$. We’ll say all sizes of apples are equally likely (we’ll revisit this assumption in the MAP approximation).\n",
    "\n",
    "Furthermore, we’ll drop $P(X)$ - the probability of seeing our data. This is a normalization constant and will be important if we do want to know the probabilities of apple weights. But, for right now, our end goal is to only to find the most probable weight. $P(X)$ is independent of $w$, so we can drop it if we’re doing relative comparisons.\n",
    "\n",
    "This leaves us with $P(X|w)$, our likelihood, as in, what is the likelihood that we would see the data, $X$, given an apple of weight $w$. If we maximize this, we maximize the probability that we will guess the right weight.\n",
    "\n",
    "The grid approximation is probably the simplest way to do this. Basically, we’ll systematically step through different weight guesses, and compare what it would look like if this hypothetical weight were to generate data. We’ll compare this hypothetical data to our real data and pick the one that matches the best.\n",
    "\n",
    "To formulate this mathematically:\n",
    "\n",
    "For each of these guesses, we’re asking \"what is the probability that the data we have, came from the distribution that our weight guess would generate\". Because each measurement is independent from another, we can break the above equation down into finding the probability on a per measurement basis:\n",
    "\n",
    "$$\n",
    "P(X|w) = \\prod_{i}^{N} p(x_i|w)\n",
    "$$\n",
    "\n",
    "So, if we multiply the probability that we would see each individual data point - given our weight guess - then we can find one number comparing our weight guess to all of our data.\n",
    "\n",
    "The peak in the likelihood is the weight of the apple.\n",
    "\n",
    "To make it computationally easier,\n",
    "\n",
    "$$\n",
    "\\log P(X|w) = \\log \\prod_{i}^{N} p(x_i|w) = \\sum_{i}^{N} \\log p(d_i|w)\n",
    "$$\n",
    "\n",
    "\n",
    "\n",
    "a) Why did we use log likelihood? Is it ok to do so?\n",
    "\n",
    "<div dir=\"rtl\" style=\"font-family: BNazanin; text-align: justify;\">\n",
    "استفاده از likelihood به صورت لگاریتمی یک روش رایج در مدلسازی بیزی و تحلیل آماری است. برداشت لگاریتم از تابع likelihood چندین مزیت دارد.\n",
    "\n",
    "</div>\n",
    "<div dir=\"rtl\" style=\"font-family: BNazanin; text-align: justify;\">\n",
    "اولاً، این عمل باعث ساده‌تر شدن محاسبات ریاضی می‌شود؛ زیرا ضرب احتمالات بسیار کوچک را به جمع لگاریتم‌ها تبدیل می‌کند. این کمک می‌کند تا مشکلات underflow عددی که در ضرب احتمالات بسیار کوچک به وجود می‌آید را جلوگیری کند.\n",
    "</div>\n",
    "<div dir=\"rtl\" style=\"font-family: BNazanin; text-align: justify;\">\n",
    "ثانیاً، لگاریتم یک تابع یک‌به‌یک است، به این معنی که بیشینه کردن لگاریتم likelihood معادل بیشینه کردن تابع likelihood اصلی است. این ویژگی امکان کار با نمایش‌های لگاریتمی ساده و محاسباتی کارا را بدون تغییر نتایج فراهم می‌کند.\n",
    "</div>\n",
    "\n",
    "b) do the grid approximation and complete the cell below\n",
    "\n",
    "<div dir=\"rtl\" style=\"font-family: BNazanin;\">\n",
    "\n",
    "</div>"
   ]
  },
  {
   "cell_type": "code",
   "execution_count": 29,
   "metadata": {
    "id": "9NnWmxzTiRfr"
   },
   "outputs": [
    {
     "name": "stdout",
     "output_type": "stream",
     "text": [
      "Maximum Likelihood Estimate (MLE) of weight: 97.9591836734694\n"
     ]
    }
   ],
   "source": [
    "from scipy.stats import norm\n",
    "import numpy as np\n",
    "\n",
    "weight_grid = np.linspace(0, 100)\n",
    "np.random.seed(42)\n",
    "mean_weight = 100  # True weight of the apple\n",
    "std_dev = 10  # Standard deviation for the generated weights\n",
    "num_samples = 50  # Number of measurements\n",
    "# Generate a random dataset centered around the true weight\n",
    "data = np.random.normal(mean_weight, std_dev, num_samples).tolist()\n",
    "\n",
    "\n",
    "# Calculate the log likelihoods for a range of weight guesses.\n",
    "log_likelihoods = []\n",
    "for weight_guess in weight_grid:\n",
    "    log_pdf_values = norm.logpdf(data, loc=weight_guess, scale=10)\n",
    "    total_log_likelihood = np.sum(log_pdf_values)\n",
    "    log_likelihoods.append(total_log_likelihood)\n",
    "\n",
    "# Find the maximum likelihood estimate.\n",
    "mle_weight = weight_grid[np.argmax(log_likelihoods)]\n",
    "\n",
    "print(\"Maximum Likelihood Estimate (MLE) of weight:\", mle_weight)"
   ]
  },
  {
   "cell_type": "markdown",
   "metadata": {
    "id": "NN3lt2npcc2S"
   },
   "source": [
    "Play around with the code and try to answer the following questions regarding MLE and MAP. You can draw plots to visualize as well."
   ]
  },
  {
   "cell_type": "code",
   "execution_count": 34,
   "metadata": {
    "id": "ezcWTpNQamCL"
   },
   "outputs": [
    {
     "name": "stdout",
     "output_type": "stream",
     "text": [
      "Average measurement: 86.570 g\n",
      "Maximum Likelihood estimate: 99.495 g\n",
      "Maximum A Posterior estimate: 51.253 g\n",
      "The true weight of the apple was: 86.987 g\n"
     ]
    }
   ],
   "source": [
    "import numpy as np\n",
    "from scipy.stats import norm, invgamma\n",
    "\n",
    "\n",
    "# The barrel of apples\n",
    "# The average apples is between 70-100 g\n",
    "BARREL = np.random.normal(loc=85, scale=20, size=100)\n",
    "# Grid\n",
    "WEIGHT_GUESSES = np.linspace(1, 200, 100)\n",
    "ERROR_GUESSES = np.linspace(.1, 50, 100)\n",
    "\n",
    "# NOTE: Try changing the scale error\n",
    "# in practice, you would not know this number\n",
    "SCALE_ERR = 5\n",
    "\n",
    "# NOTE: Try changing the number of measurements taken\n",
    "N_MEASURMENTS = 10\n",
    "\n",
    "# NOTE: Try changing the prior values and distributions\n",
    "PRIOR_WEIGHT = norm(50, 1).logpdf(WEIGHT_GUESSES)\n",
    "PRIOR_ERR = invgamma(4).logpdf(ERROR_GUESSES)\n",
    "\n",
    "LOG_PRIOR_GRID = np.add.outer(PRIOR_ERR, PRIOR_WEIGHT)\n",
    "\n",
    "\n",
    "def read_scale(apple):\n",
    "    return apple + np.random.normal(loc=0, scale=SCALE_ERR)\n",
    "\n",
    "\n",
    "def get_log_likelihood_grid(measurments):\n",
    "    log_liklelihood = [\n",
    "        [\n",
    "            norm(weight_guess, error_guess).logpdf(measurments).sum()\n",
    "            for weight_guess in WEIGHT_GUESSES\n",
    "        ]\n",
    "        for error_guess in ERROR_GUESSES\n",
    "    ]\n",
    "    return np.asarray(log_liklelihood)\n",
    "\n",
    "\n",
    "def get_mle(measurments):\n",
    "    log_likelihood_grid = get_log_likelihood_grid(measurements)\n",
    "    max_likelihood_index = np.unravel_index(np.argmax(log_likelihood_grid), log_likelihood_grid.shape)\n",
    "    weight_guess = WEIGHT_GUESSES[max_likelihood_index[1]]\n",
    "    return weight_guess\n",
    "    \"\"\"\n",
    "    Calculate the log-likelihood for each measurement in the grid.\n",
    "    Find the index of the maximum log-likelihood in the grid.\n",
    "    Return the weight guess corresponding to the maximum log-likelihood.\n",
    "    \"\"\"\n",
    "\n",
    "\n",
    "def get_map(measurements):\n",
    "    log_likelihood_grid = get_log_likelihood_grid(measurements)\n",
    "    log_posterior_grid = log_likelihood_grid + LOG_PRIOR_GRID\n",
    "    max_posterior_index = np.unravel_index(np.argmax(log_posterior_grid), log_posterior_grid.shape)\n",
    "    weight_guess = WEIGHT_GUESSES[max_posterior_index[1]]\n",
    "    return weight_guess\n",
    "    \"\"\"\n",
    "    Calculate the log-likelihood for each measurement in the grid.\n",
    "    Add the log prior to the log likelihood to get the log posterior.\n",
    "    Find the index of the maximum log posterior in the grid.\n",
    "    Return the weight guess corresponding to the maximum log posterior.\n",
    "    \"\"\"\n",
    "\n",
    "# Pick an apple at random\n",
    "apple = np.random.choice(BARREL)\n",
    "\n",
    "# weight the apple\n",
    "measurments = np.asarray([read_scale(apple) for _ in range(N_MEASURMENTS)])\n",
    "\n",
    "print(f\"Average measurement: {measurments.mean():.3f} g\")\n",
    "print(f\"Maximum Likelihood estimate: {get_mle(measurments):.3f} g\")\n",
    "print(f\"Maximum A Posterior estimate: {get_map(measurments):.3f} g\")\n",
    "print(f\"The true weight of the apple was: {apple:.3f} g\")"
   ]
  },
  {
   "cell_type": "markdown",
   "metadata": {
    "id": "LI_541TpetKk"
   },
   "source": [
    "<h3><i><i> Questions</h3>\n",
    "1.\n",
    "How sensitive is the MAP measurement to the choice of prior?\n",
    "    \n",
    "<div dir=\"rtl\" style=\"font-family: BNazanin; text-align: justify;\">\n",
    "    حساسیت اندازه‌گیری MAP نسبت به انتخاب prior می‌تواند به شکل‌های مختلفی تحت تأثیر قرار بگیرد. این حساسیت به عوامل زیر وابسته است:\n",
    "    \n",
    "1. **شکل توزیع prior**: اگر prior به شکلی باشد که مشخصاً به سمتی خاص بکشد، ممکن است تخمین MAP تحت تأثیر قرار گیرد. به عنوان مثال، اگر prior به سمت وزن‌های بزرگتر متمایل باشد، تخمین MAP به سمت وزن‌های بزرگتری متمایل می‌شود.\n",
    "2. **پارامترهای توزیع prior**: پارامترهای توزیع prior مانند میانگین و انحراف معیار، نیز می‌توانند تأثیرگذار باشند. انتخاب میانگین و انحراف معیار مناسب بر اساس دانش و اطلاعات موجود درباره سیب‌ها، می‌تواند به تخمین MAP دقیق‌تری منجر شود.\n",
    "3. **محتوای اطلاعات داده‌ها**: اگر داده‌ها قوی و کامل باشند و اطلاعات دقیقی درباره وزن سیب‌ها را ارائه کنند، prior کمتری در تخمین MAP تأثیر خواهد داشت. اما اگر داده‌ها محدود یا ناقص باشند، prior بیشتری در تخمین MAP تأثیر خواهد داشت.\n",
    "</div>\n",
    "<div dir=\"rtl\" style=\"font-family: BNazanin; text-align: justify;\">\n",
    "به منظور ارزیابی حساسیت، می‌توان مجموعه‌ای از توزیع‌های prior مختلف را با فرضات متفاوت امتحان کرد و تأثیر آنها را بر تخمین MAP بررسی کرد. این نوع تحلیل می‌تواند کمک کند تا بهتر درک کنیم که انتخاب prior چگونه بر تخمین نهایی تأثیر می‌گذارد و نتایج به چه اندازه قابل اعتماد هستند.\n",
    "</div>\n",
    "<div dir=\"rtl\" style=\"font-family: BNazanin; text-align: justify;\">\n",
    "به طور خلاصه، حساسیت اندازه‌گیری MAP نسبت به انتخاب prior در مسئله سیب‌ها به شکل، پارامترهای توزیع پیشین و محتوای اطلاعات داده‌ها بستگی دارد. بررسی حساسیت با استفاده از توزیع‌های پیشین مختلف می‌تواند به درک بهتری از تأثیر پیشین بر تخمین MAP و قابلیت اعتماد نتایج کمک کند.\n",
    "</div>\n",
    "    "
   ]
  },
  {
   "cell_type": "markdown",
   "metadata": {
    "id": "RMV-wgYXes_O"
   },
   "source": [
    "<h3><i><i></h3>\n",
    "2. How sensitive is the MLE and MAP answer to the grid size?\n",
    "    \n",
    "<div dir=\"rtl\" style=\"font-family: BNazanin; text-align: justify;\">\n",
    "MLE و MAP نسبت به grid size می‌تواند در مسائل استنتاج و تخمین مبتنی بر grid متفاوت باشد.\n",
    "\n",
    "</div>\n",
    "<div dir=\"rtl\" style=\"font-family: BNazanin; text-align: justify;\">\n",
    "در تخمین grid-based، اندازه grid به دقت یا نرمال‌سازی grid استفاده شده برای تقسیم فضای پارامترها اشاره دارد. حساسیت MLE و MAP به اندازه grid می‌تواند به وابستگی به مسئله خاص و ویژگی‌های داده و اطلاعات prior بستگی داشته باشد. در ادامه چند نکته را برای بررسی موضوع ارائه می‌دهیم:\n",
    "    \n",
    "1. **Resolution vs. Compurarional Complexity**: grid با سلول‌های کوچکتر می‌تواند تصویر دقیق‌تری از فضای پارامترها ارائه دهد. با این حال، همراه با افزایش دقت، پیچیدگی محاسباتی نیز افزایش می‌یابد؛ زیرا تعداد سلول‌های grid و محاسبات مورد نیاز به صورت نمایی با افزایش اندازه grid افزایش می‌یابد. بنابراین، معمولاً یک توازن بین سطح دقت مورد نظر و منابع محاسباتی موجود وجود دارد.\n",
    "\n",
    "2. **Sampling Bias**: اندازه grid می‌تواند بایاس نمونه‌ای را وارد کند، به ویژه اگر توزیع underlying یا مقادیر واقعی پارامترها با سلول‌های grid کاملاً هم‌خوانی نداشته باشند. اگر سلول‌های grid بزرگ باشند، تخمین‌ها ممکن است جزئیات مهم را از دست بدهند یا رفتار خشنی داشته باشند. از طرف دیگر، اگر سلول‌های شبکه بسیار کوچک باشند، تخمین‌ها ممکن است به طور غیرضروری حساس به نویز یا نوسانات کوچک در داده‌ها باشند.\n",
    "\n",
    "3. **همگرایی و پایداری**: ویژگی‌های همگرایی و پایداری MLE و MAP ممکن است تحت تأثیر اندازه grid قرار بگیرند. در برخی موارد، اندازه grid دقیق ممکن است منجر به همگرایی آهسته‌تر یا حساسیت بیشتر به شرایط اولیه شود. بررسی رفتار همگرایی و پایداری تخمین‌ها نسبت به اندازه grid، معمولاً مناسب است تحلیل حساسیت با تغییر اندازه grid را انجام داده و تخمین‌های حاصل را بررسی کنید. این تحلیل می‌تواند درک بهتری از تأثیر اندازه grid بر دقت، کارایی محاسباتی و پایداری فرایند تخمین‌زنی بدهد.\n",
    "</div>\n",
    "<div dir=\"rtl\" style=\"font-family: BNazanin; text-align: justify;\">\n",
    "در نهایت، انتخاب بهینه اندازه grid بستگی به مسئله خاص، منابع محاسباتی موجود و توازن بین دقت و کارایی مطلوب دارد. توصیه می‌شود با تغییر اندازه grid‌ها با آزمایش و برقراری تعادل بین نیازهای دقت و کارایی  به اندازه grid مناسب برای وظیفه خاص تخمین یا استنتاج خود برسید.\n",
    "    \n",
    "</div>"
   ]
  }
 ],
 "metadata": {
  "colab": {
   "provenance": []
  },
  "kernelspec": {
   "display_name": "Python 3 (ipykernel)",
   "language": "python",
   "name": "python3"
  },
  "language_info": {
   "codemirror_mode": {
    "name": "ipython",
    "version": 3
   },
   "file_extension": ".py",
   "mimetype": "text/x-python",
   "name": "python",
   "nbconvert_exporter": "python",
   "pygments_lexer": "ipython3",
   "version": "3.11.5"
  }
 },
 "nbformat": 4,
 "nbformat_minor": 1
}
