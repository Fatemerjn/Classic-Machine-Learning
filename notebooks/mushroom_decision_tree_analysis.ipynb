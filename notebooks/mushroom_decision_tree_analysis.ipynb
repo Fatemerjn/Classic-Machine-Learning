{
  "nbformat": 4,
  "nbformat_minor": 0,
  "metadata": {
    "colab": {
      "provenance": []
    },
    "kernelspec": {
      "name": "python3",
      "display_name": "Python 3"
    },
    "language_info": {
      "name": "python"
    }
  },
  "cells": [
    {
      "cell_type": "markdown",
      "source": [
        "#Question 2"
      ],
      "metadata": {
        "id": "G49e8mydozHs"
      }
    },
    {
      "cell_type": "code",
      "execution_count": 1,
      "metadata": {
        "colab": {
          "base_uri": "https://localhost:8080/",
          "height": 73
        },
        "id": "E9a6WdMKlXlz",
        "outputId": "e1742ad1-e752-4b8f-8e12-f9a70ab1cde1"
      },
      "outputs": [
        {
          "output_type": "display_data",
          "data": {
            "text/plain": [
              "<IPython.core.display.HTML object>"
            ],
            "text/html": [
              "\n",
              "     <input type=\"file\" id=\"files-73d85c56-e491-4306-90b1-e532e4c3871c\" name=\"files[]\" multiple disabled\n",
              "        style=\"border:none\" />\n",
              "     <output id=\"result-73d85c56-e491-4306-90b1-e532e4c3871c\">\n",
              "      Upload widget is only available when the cell has been executed in the\n",
              "      current browser session. Please rerun this cell to enable.\n",
              "      </output>\n",
              "      <script>// Copyright 2017 Google LLC\n",
              "//\n",
              "// Licensed under the Apache License, Version 2.0 (the \"License\");\n",
              "// you may not use this file except in compliance with the License.\n",
              "// You may obtain a copy of the License at\n",
              "//\n",
              "//      http://www.apache.org/licenses/LICENSE-2.0\n",
              "//\n",
              "// Unless required by applicable law or agreed to in writing, software\n",
              "// distributed under the License is distributed on an \"AS IS\" BASIS,\n",
              "// WITHOUT WARRANTIES OR CONDITIONS OF ANY KIND, either express or implied.\n",
              "// See the License for the specific language governing permissions and\n",
              "// limitations under the License.\n",
              "\n",
              "/**\n",
              " * @fileoverview Helpers for google.colab Python module.\n",
              " */\n",
              "(function(scope) {\n",
              "function span(text, styleAttributes = {}) {\n",
              "  const element = document.createElement('span');\n",
              "  element.textContent = text;\n",
              "  for (const key of Object.keys(styleAttributes)) {\n",
              "    element.style[key] = styleAttributes[key];\n",
              "  }\n",
              "  return element;\n",
              "}\n",
              "\n",
              "// Max number of bytes which will be uploaded at a time.\n",
              "const MAX_PAYLOAD_SIZE = 100 * 1024;\n",
              "\n",
              "function _uploadFiles(inputId, outputId) {\n",
              "  const steps = uploadFilesStep(inputId, outputId);\n",
              "  const outputElement = document.getElementById(outputId);\n",
              "  // Cache steps on the outputElement to make it available for the next call\n",
              "  // to uploadFilesContinue from Python.\n",
              "  outputElement.steps = steps;\n",
              "\n",
              "  return _uploadFilesContinue(outputId);\n",
              "}\n",
              "\n",
              "// This is roughly an async generator (not supported in the browser yet),\n",
              "// where there are multiple asynchronous steps and the Python side is going\n",
              "// to poll for completion of each step.\n",
              "// This uses a Promise to block the python side on completion of each step,\n",
              "// then passes the result of the previous step as the input to the next step.\n",
              "function _uploadFilesContinue(outputId) {\n",
              "  const outputElement = document.getElementById(outputId);\n",
              "  const steps = outputElement.steps;\n",
              "\n",
              "  const next = steps.next(outputElement.lastPromiseValue);\n",
              "  return Promise.resolve(next.value.promise).then((value) => {\n",
              "    // Cache the last promise value to make it available to the next\n",
              "    // step of the generator.\n",
              "    outputElement.lastPromiseValue = value;\n",
              "    return next.value.response;\n",
              "  });\n",
              "}\n",
              "\n",
              "/**\n",
              " * Generator function which is called between each async step of the upload\n",
              " * process.\n",
              " * @param {string} inputId Element ID of the input file picker element.\n",
              " * @param {string} outputId Element ID of the output display.\n",
              " * @return {!Iterable<!Object>} Iterable of next steps.\n",
              " */\n",
              "function* uploadFilesStep(inputId, outputId) {\n",
              "  const inputElement = document.getElementById(inputId);\n",
              "  inputElement.disabled = false;\n",
              "\n",
              "  const outputElement = document.getElementById(outputId);\n",
              "  outputElement.innerHTML = '';\n",
              "\n",
              "  const pickedPromise = new Promise((resolve) => {\n",
              "    inputElement.addEventListener('change', (e) => {\n",
              "      resolve(e.target.files);\n",
              "    });\n",
              "  });\n",
              "\n",
              "  const cancel = document.createElement('button');\n",
              "  inputElement.parentElement.appendChild(cancel);\n",
              "  cancel.textContent = 'Cancel upload';\n",
              "  const cancelPromise = new Promise((resolve) => {\n",
              "    cancel.onclick = () => {\n",
              "      resolve(null);\n",
              "    };\n",
              "  });\n",
              "\n",
              "  // Wait for the user to pick the files.\n",
              "  const files = yield {\n",
              "    promise: Promise.race([pickedPromise, cancelPromise]),\n",
              "    response: {\n",
              "      action: 'starting',\n",
              "    }\n",
              "  };\n",
              "\n",
              "  cancel.remove();\n",
              "\n",
              "  // Disable the input element since further picks are not allowed.\n",
              "  inputElement.disabled = true;\n",
              "\n",
              "  if (!files) {\n",
              "    return {\n",
              "      response: {\n",
              "        action: 'complete',\n",
              "      }\n",
              "    };\n",
              "  }\n",
              "\n",
              "  for (const file of files) {\n",
              "    const li = document.createElement('li');\n",
              "    li.append(span(file.name, {fontWeight: 'bold'}));\n",
              "    li.append(span(\n",
              "        `(${file.type || 'n/a'}) - ${file.size} bytes, ` +\n",
              "        `last modified: ${\n",
              "            file.lastModifiedDate ? file.lastModifiedDate.toLocaleDateString() :\n",
              "                                    'n/a'} - `));\n",
              "    const percent = span('0% done');\n",
              "    li.appendChild(percent);\n",
              "\n",
              "    outputElement.appendChild(li);\n",
              "\n",
              "    const fileDataPromise = new Promise((resolve) => {\n",
              "      const reader = new FileReader();\n",
              "      reader.onload = (e) => {\n",
              "        resolve(e.target.result);\n",
              "      };\n",
              "      reader.readAsArrayBuffer(file);\n",
              "    });\n",
              "    // Wait for the data to be ready.\n",
              "    let fileData = yield {\n",
              "      promise: fileDataPromise,\n",
              "      response: {\n",
              "        action: 'continue',\n",
              "      }\n",
              "    };\n",
              "\n",
              "    // Use a chunked sending to avoid message size limits. See b/62115660.\n",
              "    let position = 0;\n",
              "    do {\n",
              "      const length = Math.min(fileData.byteLength - position, MAX_PAYLOAD_SIZE);\n",
              "      const chunk = new Uint8Array(fileData, position, length);\n",
              "      position += length;\n",
              "\n",
              "      const base64 = btoa(String.fromCharCode.apply(null, chunk));\n",
              "      yield {\n",
              "        response: {\n",
              "          action: 'append',\n",
              "          file: file.name,\n",
              "          data: base64,\n",
              "        },\n",
              "      };\n",
              "\n",
              "      let percentDone = fileData.byteLength === 0 ?\n",
              "          100 :\n",
              "          Math.round((position / fileData.byteLength) * 100);\n",
              "      percent.textContent = `${percentDone}% done`;\n",
              "\n",
              "    } while (position < fileData.byteLength);\n",
              "  }\n",
              "\n",
              "  // All done.\n",
              "  yield {\n",
              "    response: {\n",
              "      action: 'complete',\n",
              "    }\n",
              "  };\n",
              "}\n",
              "\n",
              "scope.google = scope.google || {};\n",
              "scope.google.colab = scope.google.colab || {};\n",
              "scope.google.colab._files = {\n",
              "  _uploadFiles,\n",
              "  _uploadFilesContinue,\n",
              "};\n",
              "})(self);\n",
              "</script> "
            ]
          },
          "metadata": {}
        },
        {
          "output_type": "stream",
          "name": "stdout",
          "text": [
            "Saving mushrooms.csv to mushrooms.csv\n"
          ]
        }
      ],
      "source": [
        "from google.colab import files\n",
        "uploaded = files.upload()"
      ]
    },
    {
      "cell_type": "code",
      "source": [
        "import pandas as pd\n",
        "\n",
        "mushrooms_data = pd.read_csv('/content/mushrooms.csv')"
      ],
      "metadata": {
        "id": "cjaNfWjtldJ0"
      },
      "execution_count": 2,
      "outputs": []
    },
    {
      "cell_type": "code",
      "source": [
        "import numpy as np\n",
        "\n",
        "from sklearn.model_selection import train_test_split\n",
        "from sklearn.preprocessing import LabelEncoder\n",
        "\n",
        "# Replace '?' with np.nan\n",
        "mushrooms_data.replace('?', np.nan, inplace=True)\n",
        "\n",
        "encoder = LabelEncoder()\n",
        "mushrooms_encoded = mushrooms_data.apply(encoder.fit_transform)\n",
        "\n",
        "X = mushrooms_encoded.drop('class', axis=1)\n",
        "y = mushrooms_encoded['class']\n",
        "\n",
        "X_train, X_temp, y_train, y_temp = train_test_split(X, y, test_size=0.3, random_state=42)\n",
        "X_val, X_test, y_val, y_test = train_test_split(X_temp, y_temp, test_size=1/3, random_state=42)\n",
        "\n",
        "len(X_train), len(X_val), len(X_test)\n"
      ],
      "metadata": {
        "colab": {
          "base_uri": "https://localhost:8080/"
        },
        "id": "EgTKGr1Kl7n5",
        "outputId": "ad665324-3d9e-4140-efcf-a995f7645ea1"
      },
      "execution_count": 5,
      "outputs": [
        {
          "output_type": "execute_result",
          "data": {
            "text/plain": [
              "(5686, 1625, 813)"
            ]
          },
          "metadata": {},
          "execution_count": 5
        }
      ]
    },
    {
      "cell_type": "markdown",
      "source": [
        "##Part 1"
      ],
      "metadata": {
        "id": "LfnPddQgt0MA"
      }
    },
    {
      "cell_type": "markdown",
      "source": [
        "<div dir=\"rtl\" style=\"font-family: BNazanin; text-align: justify;\">\n",
        "کنترل مقادیر ناقص یک مرحله حیاتی در پیش‌پردازش داده‌ها است، به ویژه در مجموعه داده‌ای مانند داده های این سوال که مقادیر ناقص می‌توانند تأثیر قابل توجهی بر عملکرد مدل‌های یادگیری ماشین داشته باشند. روش‌های متعددی برای کنترل داده‌های ناقص وجود دارند و انتخاب روش معمولاً بستگی به خصوصیات داده و درصد مقادیر ناقص دارد. در زیر، رویکرد ترجیحی خود را شرح میدهم:\n",
        "\n",
        "رویکرد انتخابی:  (Imputation)\n",
        "\n",
        "Imputation شامل جایگزین کردن مقادیر ناقص با مقادیر جایگزین است. روش Imputation می‌تواند بسته به خصوصیات داده متفاوت باشد. برای داده‌های گروهی، معمولاً از مقدار بیشترین تکرار در ستون  استفاده می‌شود. برای داده‌های عددی، گزینه‌هایی مانند میانگین یا میانه ستون مورد استفاده قرار می‌گیرند. Imputation به طور کلی ترجیح داده می‌شود زیرا به ما امکان می‌دهد تمام نقاط داده را حفظ کنیم که در مجموعه داده‌هایی با تعداد نمونه محدود بسیار مهم است.\n",
        "\n",
        " مراحل Imputation:\n",
        "\n",
        "1. **شناسایی مقادیر ناقص**: تعیین کنید کدام ویژگی‌ها مقادیر ناقص دارند و میزان این مقادیر ناقص را تعیین کنید.\n",
        "2. **انتخاب روش جانشینی**: بر اساس نوع داده (گروهی یا عددی) ستون‌ها، یک روش مناسب جانشینی را انتخاب کنید.\n",
        "3. **اعمال جانشینی**: مقادیر ناقص را با مقادیر محاسبه شده (میانگین، میانه یا حالت) جایگزین کنید.\n",
        "</div>"
      ],
      "metadata": {
        "id": "EgI3scAnzqeb"
      }
    },
    {
      "cell_type": "code",
      "source": [
        "from sklearn.impute import SimpleImputer\n",
        "\n",
        "imputer = SimpleImputer(strategy='most_frequent')\n",
        "X_train = pd.DataFrame(imputer.fit_transform(X_train), columns=X_train.columns)\n",
        "X_val = pd.DataFrame(imputer.transform(X_val), columns=X_val.columns)\n",
        "X_test = pd.DataFrame(imputer.transform(X_test), columns=X_test.columns)\n"
      ],
      "metadata": {
        "id": "hlvgVbonOqJi"
      },
      "execution_count": 6,
      "outputs": []
    },
    {
      "cell_type": "markdown",
      "source": [
        "##Part 2"
      ],
      "metadata": {
        "id": "S4jPvyoIELLm"
      }
    },
    {
      "cell_type": "code",
      "source": [
        "from sklearn.tree import DecisionTreeClassifier\n",
        "from sklearn.metrics import accuracy_score\n",
        "\n",
        "accuracies = {}\n",
        "for depth in [4, 8, 16, 24, 32]:\n",
        "    dt_classifier = DecisionTreeClassifier(max_depth=depth, criterion='gini', random_state=42)\n",
        "\n",
        "    dt_classifier.fit(X_train, y_train)\n",
        "\n",
        "    train_predictions = dt_classifier.predict(X_train)\n",
        "    test_predictions = dt_classifier.predict(X_test)\n",
        "\n",
        "    train_accuracy = accuracy_score(y_train, train_predictions)\n",
        "    test_accuracy = accuracy_score(y_test, test_predictions)\n",
        "    accuracies[depth] = {'Train Accuracy': train_accuracy, 'Test Accuracy': test_accuracy}\n",
        "\n",
        "for depth in accuracies:\n",
        "    print(f\"Depth: {depth}, Train Accuracy: {accuracies[depth]['Train Accuracy']}, Test Accuracy: {accuracies[depth]['Test Accuracy']}\")\n"
      ],
      "metadata": {
        "colab": {
          "base_uri": "https://localhost:8080/"
        },
        "id": "54B8HxbaQWUY",
        "outputId": "db3d285d-e1f7-483d-e579-5783cac64a79"
      },
      "execution_count": 7,
      "outputs": [
        {
          "output_type": "stream",
          "name": "stdout",
          "text": [
            "Depth: 4, Train Accuracy: 0.9780161800914526, Test Accuracy: 0.985239852398524\n",
            "Depth: 8, Train Accuracy: 1.0, Test Accuracy: 1.0\n",
            "Depth: 16, Train Accuracy: 1.0, Test Accuracy: 1.0\n",
            "Depth: 24, Train Accuracy: 1.0, Test Accuracy: 1.0\n",
            "Depth: 32, Train Accuracy: 1.0, Test Accuracy: 1.0\n"
          ]
        }
      ]
    },
    {
      "cell_type": "markdown",
      "source": [
        "##Part 3"
      ],
      "metadata": {
        "id": "dWj2WCGoTtjj"
      }
    },
    {
      "cell_type": "code",
      "source": [
        "from sklearn.metrics import precision_score\n",
        "from itertools import product\n",
        "from random import sample\n",
        "\n",
        "def create_feature_subset(X, num_features):\n",
        "    selected_features = sample(list(X.columns), num_features)\n",
        "    return X[selected_features]\n",
        "\n",
        "max_depths = [4, 8, 12, 16]\n",
        "feature_numbers = [3, 5, 7]\n",
        "n_trees = 7\n",
        "\n",
        "results = []\n",
        "best_model = None\n",
        "best_accuracy = 0\n",
        "\n",
        "feature_names = mushrooms_data.drop('class', axis=1).columns\n",
        "\n",
        "X_train = pd.DataFrame(X_train, columns=feature_names)\n",
        "X_test = pd.DataFrame(X_test, columns=feature_names)\n",
        "\n",
        "for depth, feature_num in product(max_depths, feature_numbers):\n",
        "    trees = []\n",
        "\n",
        "    for _ in range(n_trees):\n",
        "        X_subset = create_feature_subset(X_train, feature_num)\n",
        "        tree = DecisionTreeClassifier(max_depth=depth, random_state=42)\n",
        "        tree.fit(X_subset, y_train)\n",
        "        trees.append((tree, X_subset.columns))\n",
        "\n",
        "    train_predictions = []\n",
        "    for i in range(len(X_train)):\n",
        "        votes = [tree.predict(X_train.iloc[i][features].to_frame().T)[0] for tree, features in trees]\n",
        "        train_predictions.append(max(set(votes), key=votes.count))\n",
        "\n",
        "    accuracy = accuracy_score(y_train, train_predictions)\n",
        "    results.append({'Depth': depth, 'Feature Number': feature_num, 'Accuracy': accuracy})\n",
        "\n",
        "    if accuracy > best_accuracy:\n",
        "        best_accuracy = accuracy\n",
        "        best_model = trees\n",
        "# Variables to store the best hyperparameters\n",
        "best_depth = None\n",
        "best_feature_num = None\n",
        "\n",
        "for result in results:\n",
        "    print(f\"Depth: {result['Depth']}, Feature Number: {result['Feature Number']}, Training Accuracy: {result['Accuracy']}\")\n",
        "\n",
        "    if result['Accuracy'] == best_accuracy:\n",
        "        best_depth = result['Depth']\n",
        "        best_feature_num = result['Feature Number']\n",
        "        best_model = trees\n",
        "\n",
        "print(f\"Best hyperparameters - Depth: {best_depth}, Feature Number: {best_feature_num}, with Training Accuracy: {best_accuracy}\")\n"
      ],
      "metadata": {
        "colab": {
          "base_uri": "https://localhost:8080/"
        },
        "id": "_h2VqPOGTwDn",
        "outputId": "5c8e9592-5182-461a-e04c-0a7bb9e432ea"
      },
      "execution_count": 11,
      "outputs": [
        {
          "output_type": "stream",
          "name": "stdout",
          "text": [
            "Depth: 4, Feature Number: 3, Training Accuracy: 0.8877945831867745\n",
            "Depth: 4, Feature Number: 5, Training Accuracy: 0.9423144565599718\n",
            "Depth: 4, Feature Number: 7, Training Accuracy: 0.9857544846992613\n",
            "Depth: 8, Feature Number: 3, Training Accuracy: 0.9458318677453394\n",
            "Depth: 8, Feature Number: 5, Training Accuracy: 0.9880408019697503\n",
            "Depth: 8, Feature Number: 7, Training Accuracy: 0.9989447766443897\n",
            "Depth: 12, Feature Number: 3, Training Accuracy: 0.9423144565599718\n",
            "Depth: 12, Feature Number: 5, Training Accuracy: 0.9961308476960957\n",
            "Depth: 12, Feature Number: 7, Training Accuracy: 0.9956032360182905\n",
            "Depth: 16, Feature Number: 3, Training Accuracy: 0.9393246570524094\n",
            "Depth: 16, Feature Number: 5, Training Accuracy: 0.981885332395357\n",
            "Depth: 16, Feature Number: 7, Training Accuracy: 1.0\n",
            "Best hyperparameters - Depth: 16, Feature Number: 7, with Training Accuracy: 1.0\n"
          ]
        }
      ]
    },
    {
      "cell_type": "code",
      "source": [
        "test_predictions = [max(set([tree.predict(X_test.iloc[i][features].to_frame().T)[0] for tree, features in best_model]), key=lambda x: [x].count(x)) for i in range(len(X_test))]\n",
        "\n",
        "best_test_accuracy = accuracy_score(y_test, test_predictions)\n",
        "\n",
        "encoder = LabelEncoder()\n",
        "encoder.fit(mushrooms_data['class'])\n",
        "\n",
        "positive_class_label = encoder.transform(['e'])[0]\n",
        "best_precision = precision_score(y_test, test_predictions, pos_label=positive_class_label)\n",
        "\n",
        "\n",
        "print(f\"Best Model Test Accuracy: {best_test_accuracy}, Precision: {best_precision}\")\n"
      ],
      "metadata": {
        "colab": {
          "base_uri": "https://localhost:8080/"
        },
        "id": "vyFYHw6WcNEA",
        "outputId": "a02343dc-d6dd-4d55-c76a-bd8345c2ff3f"
      },
      "execution_count": 24,
      "outputs": [
        {
          "output_type": "stream",
          "name": "stdout",
          "text": [
            "Best Model Test Accuracy: 0.9163591635916359, Precision: 0.8586278586278586\n"
          ]
        }
      ]
    }
  ]
}