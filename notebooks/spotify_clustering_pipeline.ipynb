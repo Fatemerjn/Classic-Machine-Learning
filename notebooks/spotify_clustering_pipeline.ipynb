{
  "cells": [
    {
      "cell_type": "markdown",
      "metadata": {
        "id": "liKeILvdX42W"
      },
      "source": [
        "<span style=\"color: red;\">\n",
        "<div dir='rtl'>\n",
        "\n",
        "<b> نام و نام‌‌خانوادگی: فاطمه رائیجیان</b>\n",
        "\n",
        "<b> شماره دانشجویی: 402203389</b>\n",
        "\n",
        "</span>"
      ]
    },
    {
      "cell_type": "markdown",
      "metadata": {
        "id": "8er-66JsX42Z"
      },
      "source": [
        "<div dir='rtl'>\n",
        "<h1>\n",
        "مقدمه\n",
        "</h1>\n",
        "<p>\n",
        "در این تمرین قصد داریم به مباحث زیر بپردازیم:\n",
        "<li> کاهش ابعاد </li>\n",
        "<li> خوشه‌بندی متن و هرس‌کردن خوشه‌ها</li>\n",
        "\n",
        "کتابخانه‌های مورد نظرتان را هم می‌توانید در اولین سل نوت‌بوک فراخوانی کنید.\n",
        "\n",
        "تمرین درباره ی خوشه بندی اهنگ های مشابه در اپ اسپاتیفای است که از دیتاستی از سایت کگل برداشته شده است.\n",
        "</p>\n",
        "</div>"
      ]
    },
    {
      "cell_type": "code",
      "source": [
        "import pandas as pd\n",
        "import numpy as np\n",
        "import matplotlib.pyplot as plt\n",
        "from sklearn.decomposition import PCA\n",
        "import random\n",
        "from sklearn.metrics import silhouette_score as silhouette_score\n",
        "# from sklearn.metrics import silhouette_samples\n",
        "# from sklearn.datasets import make_blobs\n",
        "from sklearn.manifold import TSNE\n"
      ],
      "metadata": {
        "id": "gBMjKSZARPDQ"
      },
      "execution_count": 62,
      "outputs": []
    },
    {
      "cell_type": "markdown",
      "metadata": {
        "id": "4rXdVbQXX42Z"
      },
      "source": [
        "<div dir=\"rtl\">\n",
        "<h1>\n",
        "لود دیتا</h1>\n",
        "</div>"
      ]
    },
    {
      "cell_type": "markdown",
      "metadata": {
        "id": "-z1PHYW3X42a"
      },
      "source": [
        "<<div dir=\"rtl\" style=\"font-family: BNazanin; text-align: justify; display: flex;\">\n",
        "در این بخش باید دیتا را لود کرده و در انتها فقط نام آهنگ و فیچر هایی که به نظرتان مفید است را با ذکر علتی کوتاه نگه دارید.\n",
        "\n",
        "<div style=\"flex: 1;\">\n",
        "\n",
        "**ویژگی هایی حذف میکنیم:**\n",
        "\n",
        "1. track_id، track_album_id، playlist_id: این‌ها شناسه‌های منحصر به فردی هستند که با ویژگی‌های موسیقیایی آهنگ هیچ ارتباطی ندارند.\n",
        "\n",
        "2. track_artist، track_album_name: نام هنرمند و نام آلبوم، اطلاعاتی هستند که تأثیر مستقیمی بر ویژگی‌های صوتی آهنگ ندارند.\n",
        "\n",
        "3. track_album_release_date: تاریخ انتشار اطلاعات تاریخی را ارائه می‌دهد، اما بر ویژگی‌های صوتی تأثیری ندارد.\n",
        "\n",
        "4. playlist_name: مربوط به طبقه‌بندی آهنگ‌ها است و به ویژگی‌های موسیقیایی درونی قطعات مربوطی ندارد.\n",
        "\n",
        "5. playlist_genre، playlist_subgenre: برچسب‌های سبک موسیقی بینشی هستند و دقت کمتری نسبت به ویژگی‌های صوتی برای خوشه‌بندی دارند.\n",
        "\n",
        "6. track_popularity: نمایانگر ترجیحات و روند گوش‌کنندگان است و ویژگی‌های موسیقیایی آهنگ را تحت تأثیر قرار نمی‌دهد.\n",
        "</div>\n",
        "<div style=\"flex: 1;\">\n",
        "**ویژگی هایی که نگه میداریم:**\n",
        "\n",
        "1. **track_name:** برای شناسایی و ارجاع راحت به هر آهنگ نگه‌داشته شده است.\n",
        "\n",
        "2. **danceability:** نشان می‌دهد چقدر یک آهنگ مناسب برای رقص است، یک جنبه کلیدی در سبک موسیقی آن است.\n",
        "\n",
        "3. **energy:** ویژگی انرژی، شدت و فعالیت موسیقی را بازنمایی می‌کند و بر تم و سرعت آن تأثیر می‌گذارد.\n",
        "\n",
        "4. **key:** کلید، پایه تنی موسیقی را تعیین می‌کند و بر صدا و حالت کلی آن تأثیر می‌گذارد.\n",
        "\n",
        "5. **loudness:** بلندی صوت به طور کلی حجم کلی را نمایش می‌دهد و به انرژی و شدت واقعی آن کمک می‌کند.\n",
        "\n",
        "6. **mode:** حالت مقیاس بزرگ یا کوچک را نشان می‌دهد که بر مزاج و هماهنگی آهنگ تأثیر می‌گذارد.\n",
        "\n",
        "7. **speechiness:** اندازه‌گیری حضور کلمات گفتاری است که آهنگ‌ها را با بیشتر صداها یا روایت تمیز می‌کند.\n",
        "\n",
        "8. **acousticness:** بررسی می‌کند که آیا یک آهنگ آکوستیک است یا نه و بر تمبر و سبک موسیقی تأثیر می‌گذارد.\n",
        "\n",
        "9. **instrumentalness:** در شناسایی آهنگ‌های بدون صدا کمک می‌کند و بر موسیقی و سازها تمرکز می‌کند.\n",
        "\n",
        "10. **liveness:** حضور مخاطب زنده را تشخیص می‌دهد که می‌تواند حس و صحت ضبط را تغییر دهد.\n",
        "\n",
        "11. **valence:** اندازه‌گیری احساس موسیقی است که بر تن صوتی اثر می‌گذارد.\n",
        "\n",
        "12. **tempo:** نمایانگر سرعت است و به طور مستقیم بر ریتم و انرژی موسیقی تأثیر می‌گذارد.\n",
        "\n",
        "13. **duration_ms:** مدت زمان به میلی‌ثانیه، برای درک طول و ساختار آهنگ مهم است.\n",
        "</div>\n",
        "</div>"
      ]
    },
    {
      "cell_type": "code",
      "source": [
        "from google.colab import files\n",
        "uploaded = files.upload()"
      ],
      "metadata": {
        "colab": {
          "base_uri": "https://localhost:8080/",
          "height": 73
        },
        "id": "ergzS8yJS2YR",
        "outputId": "1b5fef15-6159-4060-de74-c19b12f2ba66"
      },
      "execution_count": 34,
      "outputs": [
        {
          "output_type": "display_data",
          "data": {
            "text/plain": [
              "<IPython.core.display.HTML object>"
            ],
            "text/html": [
              "\n",
              "     <input type=\"file\" id=\"files-e855725e-2999-409d-bc81-4f1e2d9aa173\" name=\"files[]\" multiple disabled\n",
              "        style=\"border:none\" />\n",
              "     <output id=\"result-e855725e-2999-409d-bc81-4f1e2d9aa173\">\n",
              "      Upload widget is only available when the cell has been executed in the\n",
              "      current browser session. Please rerun this cell to enable.\n",
              "      </output>\n",
              "      <script>// Copyright 2017 Google LLC\n",
              "//\n",
              "// Licensed under the Apache License, Version 2.0 (the \"License\");\n",
              "// you may not use this file except in compliance with the License.\n",
              "// You may obtain a copy of the License at\n",
              "//\n",
              "//      http://www.apache.org/licenses/LICENSE-2.0\n",
              "//\n",
              "// Unless required by applicable law or agreed to in writing, software\n",
              "// distributed under the License is distributed on an \"AS IS\" BASIS,\n",
              "// WITHOUT WARRANTIES OR CONDITIONS OF ANY KIND, either express or implied.\n",
              "// See the License for the specific language governing permissions and\n",
              "// limitations under the License.\n",
              "\n",
              "/**\n",
              " * @fileoverview Helpers for google.colab Python module.\n",
              " */\n",
              "(function(scope) {\n",
              "function span(text, styleAttributes = {}) {\n",
              "  const element = document.createElement('span');\n",
              "  element.textContent = text;\n",
              "  for (const key of Object.keys(styleAttributes)) {\n",
              "    element.style[key] = styleAttributes[key];\n",
              "  }\n",
              "  return element;\n",
              "}\n",
              "\n",
              "// Max number of bytes which will be uploaded at a time.\n",
              "const MAX_PAYLOAD_SIZE = 100 * 1024;\n",
              "\n",
              "function _uploadFiles(inputId, outputId) {\n",
              "  const steps = uploadFilesStep(inputId, outputId);\n",
              "  const outputElement = document.getElementById(outputId);\n",
              "  // Cache steps on the outputElement to make it available for the next call\n",
              "  // to uploadFilesContinue from Python.\n",
              "  outputElement.steps = steps;\n",
              "\n",
              "  return _uploadFilesContinue(outputId);\n",
              "}\n",
              "\n",
              "// This is roughly an async generator (not supported in the browser yet),\n",
              "// where there are multiple asynchronous steps and the Python side is going\n",
              "// to poll for completion of each step.\n",
              "// This uses a Promise to block the python side on completion of each step,\n",
              "// then passes the result of the previous step as the input to the next step.\n",
              "function _uploadFilesContinue(outputId) {\n",
              "  const outputElement = document.getElementById(outputId);\n",
              "  const steps = outputElement.steps;\n",
              "\n",
              "  const next = steps.next(outputElement.lastPromiseValue);\n",
              "  return Promise.resolve(next.value.promise).then((value) => {\n",
              "    // Cache the last promise value to make it available to the next\n",
              "    // step of the generator.\n",
              "    outputElement.lastPromiseValue = value;\n",
              "    return next.value.response;\n",
              "  });\n",
              "}\n",
              "\n",
              "/**\n",
              " * Generator function which is called between each async step of the upload\n",
              " * process.\n",
              " * @param {string} inputId Element ID of the input file picker element.\n",
              " * @param {string} outputId Element ID of the output display.\n",
              " * @return {!Iterable<!Object>} Iterable of next steps.\n",
              " */\n",
              "function* uploadFilesStep(inputId, outputId) {\n",
              "  const inputElement = document.getElementById(inputId);\n",
              "  inputElement.disabled = false;\n",
              "\n",
              "  const outputElement = document.getElementById(outputId);\n",
              "  outputElement.innerHTML = '';\n",
              "\n",
              "  const pickedPromise = new Promise((resolve) => {\n",
              "    inputElement.addEventListener('change', (e) => {\n",
              "      resolve(e.target.files);\n",
              "    });\n",
              "  });\n",
              "\n",
              "  const cancel = document.createElement('button');\n",
              "  inputElement.parentElement.appendChild(cancel);\n",
              "  cancel.textContent = 'Cancel upload';\n",
              "  const cancelPromise = new Promise((resolve) => {\n",
              "    cancel.onclick = () => {\n",
              "      resolve(null);\n",
              "    };\n",
              "  });\n",
              "\n",
              "  // Wait for the user to pick the files.\n",
              "  const files = yield {\n",
              "    promise: Promise.race([pickedPromise, cancelPromise]),\n",
              "    response: {\n",
              "      action: 'starting',\n",
              "    }\n",
              "  };\n",
              "\n",
              "  cancel.remove();\n",
              "\n",
              "  // Disable the input element since further picks are not allowed.\n",
              "  inputElement.disabled = true;\n",
              "\n",
              "  if (!files) {\n",
              "    return {\n",
              "      response: {\n",
              "        action: 'complete',\n",
              "      }\n",
              "    };\n",
              "  }\n",
              "\n",
              "  for (const file of files) {\n",
              "    const li = document.createElement('li');\n",
              "    li.append(span(file.name, {fontWeight: 'bold'}));\n",
              "    li.append(span(\n",
              "        `(${file.type || 'n/a'}) - ${file.size} bytes, ` +\n",
              "        `last modified: ${\n",
              "            file.lastModifiedDate ? file.lastModifiedDate.toLocaleDateString() :\n",
              "                                    'n/a'} - `));\n",
              "    const percent = span('0% done');\n",
              "    li.appendChild(percent);\n",
              "\n",
              "    outputElement.appendChild(li);\n",
              "\n",
              "    const fileDataPromise = new Promise((resolve) => {\n",
              "      const reader = new FileReader();\n",
              "      reader.onload = (e) => {\n",
              "        resolve(e.target.result);\n",
              "      };\n",
              "      reader.readAsArrayBuffer(file);\n",
              "    });\n",
              "    // Wait for the data to be ready.\n",
              "    let fileData = yield {\n",
              "      promise: fileDataPromise,\n",
              "      response: {\n",
              "        action: 'continue',\n",
              "      }\n",
              "    };\n",
              "\n",
              "    // Use a chunked sending to avoid message size limits. See b/62115660.\n",
              "    let position = 0;\n",
              "    do {\n",
              "      const length = Math.min(fileData.byteLength - position, MAX_PAYLOAD_SIZE);\n",
              "      const chunk = new Uint8Array(fileData, position, length);\n",
              "      position += length;\n",
              "\n",
              "      const base64 = btoa(String.fromCharCode.apply(null, chunk));\n",
              "      yield {\n",
              "        response: {\n",
              "          action: 'append',\n",
              "          file: file.name,\n",
              "          data: base64,\n",
              "        },\n",
              "      };\n",
              "\n",
              "      let percentDone = fileData.byteLength === 0 ?\n",
              "          100 :\n",
              "          Math.round((position / fileData.byteLength) * 100);\n",
              "      percent.textContent = `${percentDone}% done`;\n",
              "\n",
              "    } while (position < fileData.byteLength);\n",
              "  }\n",
              "\n",
              "  // All done.\n",
              "  yield {\n",
              "    response: {\n",
              "      action: 'complete',\n",
              "    }\n",
              "  };\n",
              "}\n",
              "\n",
              "scope.google = scope.google || {};\n",
              "scope.google.colab = scope.google.colab || {};\n",
              "scope.google.colab._files = {\n",
              "  _uploadFiles,\n",
              "  _uploadFilesContinue,\n",
              "};\n",
              "})(self);\n",
              "</script> "
            ]
          },
          "metadata": {}
        },
        {
          "output_type": "stream",
          "name": "stdout",
          "text": [
            "Saving spotify.csv to spotify (1).csv\n"
          ]
        }
      ]
    },
    {
      "cell_type": "code",
      "execution_count": 35,
      "metadata": {
        "colab": {
          "base_uri": "https://localhost:8080/"
        },
        "id": "29d1DkGtX42b",
        "outputId": "b022348d-86f5-4cb1-bde2-6f7354140227"
      },
      "outputs": [
        {
          "output_type": "stream",
          "name": "stdout",
          "text": [
            "                                          track_name  danceability  energy  \\\n",
            "0  I Don't Care (with Justin Bieber) - Loud Luxur...         0.748   0.916   \n",
            "1                    Memories - Dillon Francis Remix         0.726   0.815   \n",
            "2                    All the Time - Don Diablo Remix         0.675   0.931   \n",
            "3                  Call You Mine - Keanu Silva Remix         0.718   0.930   \n",
            "4            Someone You Loved - Future Humans Remix         0.650   0.833   \n",
            "\n",
            "   key  loudness  mode  speechiness  acousticness  instrumentalness  liveness  \\\n",
            "0    6    -2.634     1       0.0583        0.1020          0.000000    0.0653   \n",
            "1   11    -4.969     1       0.0373        0.0724          0.004210    0.3570   \n",
            "2    1    -3.432     0       0.0742        0.0794          0.000023    0.1100   \n",
            "3    7    -3.778     1       0.1020        0.0287          0.000009    0.2040   \n",
            "4    1    -4.672     1       0.0359        0.0803          0.000000    0.0833   \n",
            "\n",
            "   valence    tempo  duration_ms  \n",
            "0    0.518  122.036       194754  \n",
            "1    0.693   99.972       162600  \n",
            "2    0.613  124.008       176616  \n",
            "3    0.277  121.956       169093  \n",
            "4    0.725  123.976       189052  \n"
          ]
        }
      ],
      "source": [
        "spotify_data = pd.read_csv('/content/spotify.csv')\n",
        "\n",
        "keep_columns = [\n",
        "    'track_name',\n",
        "    'danceability', 'energy', 'key', 'loudness', 'mode', 'speechiness',\n",
        "    'acousticness', 'instrumentalness', 'liveness', 'valence', 'tempo', 'duration_ms'\n",
        "]\n",
        "spotify_data = spotify_data[keep_columns]\n",
        "print(spotify_data.head())"
      ]
    },
    {
      "cell_type": "markdown",
      "metadata": {
        "id": "cQxqKG4FX42c"
      },
      "source": [
        "<div dir=\"rtl\" style=\"font-family: BNazanin; text-align: justify;\">\n",
        "توضیح دهید که دیتای scale نشده چه مشکلی میتواند برای خوشه بندی ایجاد کند?\n",
        "\n",
        "داده‌های scale نشده می‌توانند بر الگوریتم‌های خوشه‌بندی تأثیر قابل توجهی داشته باشند، به ویژه الگوریتم‌هایی که بر مبنای معیارهای فاصله مانند K-means عمل می‌کنند. اگر ویژگی‌ها مقیاس‌های مختلفی داشته باشند، الگوریتم خوشه‌بندی ممکن است به طور نادرست ویژگی با مقیاس بزرگتر را به عنوان دارای اهمیت بیشتر تفسیر کند که منجر به نتایج غیرمنصفانه می‌شود. به عنوان مثال، یک ویژگی مانند \"loudness\" (که به دسیبل اندازه‌گیری می‌شود) ممکن است بر ویژگی \"danceability\" (بین ۰ تا ۱ مقیاس خورده) غلبه کند. استانداردسازی داده‌ها اطمینان حاصل می‌کند که هر ویژگی به طور مساوی در محاسبات فاصله موثر می‌شود، که منجر به خوشه‌بندی دقیق‌تر و معنادارتر می‌شود.\n",
        "\n",
        "\n",
        "<br>\n",
        "در این cell باید یک standard scalar را از صفر پیاده سازی نمایید. تا برای قسمت های بعدی یک دیتای مناسب داشته باشید.\n",
        "\n",
        "استانداردسازی کننده استاندارد، هر ویژگی را به‌گونه‌ای تغییر می‌دهد که میانگین آن برابر با ۰ و انحراف معیار آن برابر با ۱ شود. برای این منظور، از فرمول زیر استفاده می‌کنیم:\n",
        "\n",
        "$$\\text{scaled}_x = \\frac{x - \\text{mean}(x)}{\\text{std}(x)}$$\n",
        "\n",
        "\n",
        "</div>"
      ]
    },
    {
      "cell_type": "code",
      "execution_count": 36,
      "metadata": {
        "id": "_EwMM8rEX42c",
        "colab": {
          "base_uri": "https://localhost:8080/",
          "height": 226
        },
        "outputId": "cb9d6509-6863-4961-d90b-e8143d0da2b7"
      },
      "outputs": [
        {
          "output_type": "execute_result",
          "data": {
            "text/plain": [
              "   danceability    energy       key  loudness      mode  speechiness  \\\n",
              "0      0.642039  1.201596  0.173197  1.367103  0.876164    -0.481355   \n",
              "1      0.490404  0.643307  1.557603  0.585758  0.876164    -0.688631   \n",
              "2      0.138887  1.284510 -1.211209  1.100073 -1.141305    -0.324417   \n",
              "3      0.435264  1.278982  0.450078  0.984294  0.876164    -0.050023   \n",
              "4     -0.033425  0.742804 -1.211209  0.685141  0.876164    -0.702450   \n",
              "\n",
              "   acousticness  instrumentalness  liveness   valence     tempo  duration_ms  \n",
              "0     -0.333893         -0.377947 -0.809217  0.031907  0.042926    -0.518866  \n",
              "1     -0.468663         -0.359172  1.081044  0.782510 -0.777186    -1.056252  \n",
              "2     -0.436792         -0.377843 -0.519554  0.439377  0.116225    -0.822004  \n",
              "3     -0.667632         -0.377905  0.089580 -1.001780  0.039953    -0.947735  \n",
              "4     -0.432694         -0.377947 -0.692574  0.919763  0.115035    -0.614163  "
            ],
            "text/html": [
              "\n",
              "  <div id=\"df-844454ba-5b1f-4ee8-87e2-e4be1bb4d826\" class=\"colab-df-container\">\n",
              "    <div>\n",
              "<style scoped>\n",
              "    .dataframe tbody tr th:only-of-type {\n",
              "        vertical-align: middle;\n",
              "    }\n",
              "\n",
              "    .dataframe tbody tr th {\n",
              "        vertical-align: top;\n",
              "    }\n",
              "\n",
              "    .dataframe thead th {\n",
              "        text-align: right;\n",
              "    }\n",
              "</style>\n",
              "<table border=\"1\" class=\"dataframe\">\n",
              "  <thead>\n",
              "    <tr style=\"text-align: right;\">\n",
              "      <th></th>\n",
              "      <th>danceability</th>\n",
              "      <th>energy</th>\n",
              "      <th>key</th>\n",
              "      <th>loudness</th>\n",
              "      <th>mode</th>\n",
              "      <th>speechiness</th>\n",
              "      <th>acousticness</th>\n",
              "      <th>instrumentalness</th>\n",
              "      <th>liveness</th>\n",
              "      <th>valence</th>\n",
              "      <th>tempo</th>\n",
              "      <th>duration_ms</th>\n",
              "    </tr>\n",
              "  </thead>\n",
              "  <tbody>\n",
              "    <tr>\n",
              "      <th>0</th>\n",
              "      <td>0.642039</td>\n",
              "      <td>1.201596</td>\n",
              "      <td>0.173197</td>\n",
              "      <td>1.367103</td>\n",
              "      <td>0.876164</td>\n",
              "      <td>-0.481355</td>\n",
              "      <td>-0.333893</td>\n",
              "      <td>-0.377947</td>\n",
              "      <td>-0.809217</td>\n",
              "      <td>0.031907</td>\n",
              "      <td>0.042926</td>\n",
              "      <td>-0.518866</td>\n",
              "    </tr>\n",
              "    <tr>\n",
              "      <th>1</th>\n",
              "      <td>0.490404</td>\n",
              "      <td>0.643307</td>\n",
              "      <td>1.557603</td>\n",
              "      <td>0.585758</td>\n",
              "      <td>0.876164</td>\n",
              "      <td>-0.688631</td>\n",
              "      <td>-0.468663</td>\n",
              "      <td>-0.359172</td>\n",
              "      <td>1.081044</td>\n",
              "      <td>0.782510</td>\n",
              "      <td>-0.777186</td>\n",
              "      <td>-1.056252</td>\n",
              "    </tr>\n",
              "    <tr>\n",
              "      <th>2</th>\n",
              "      <td>0.138887</td>\n",
              "      <td>1.284510</td>\n",
              "      <td>-1.211209</td>\n",
              "      <td>1.100073</td>\n",
              "      <td>-1.141305</td>\n",
              "      <td>-0.324417</td>\n",
              "      <td>-0.436792</td>\n",
              "      <td>-0.377843</td>\n",
              "      <td>-0.519554</td>\n",
              "      <td>0.439377</td>\n",
              "      <td>0.116225</td>\n",
              "      <td>-0.822004</td>\n",
              "    </tr>\n",
              "    <tr>\n",
              "      <th>3</th>\n",
              "      <td>0.435264</td>\n",
              "      <td>1.278982</td>\n",
              "      <td>0.450078</td>\n",
              "      <td>0.984294</td>\n",
              "      <td>0.876164</td>\n",
              "      <td>-0.050023</td>\n",
              "      <td>-0.667632</td>\n",
              "      <td>-0.377905</td>\n",
              "      <td>0.089580</td>\n",
              "      <td>-1.001780</td>\n",
              "      <td>0.039953</td>\n",
              "      <td>-0.947735</td>\n",
              "    </tr>\n",
              "    <tr>\n",
              "      <th>4</th>\n",
              "      <td>-0.033425</td>\n",
              "      <td>0.742804</td>\n",
              "      <td>-1.211209</td>\n",
              "      <td>0.685141</td>\n",
              "      <td>0.876164</td>\n",
              "      <td>-0.702450</td>\n",
              "      <td>-0.432694</td>\n",
              "      <td>-0.377947</td>\n",
              "      <td>-0.692574</td>\n",
              "      <td>0.919763</td>\n",
              "      <td>0.115035</td>\n",
              "      <td>-0.614163</td>\n",
              "    </tr>\n",
              "  </tbody>\n",
              "</table>\n",
              "</div>\n",
              "    <div class=\"colab-df-buttons\">\n",
              "\n",
              "  <div class=\"colab-df-container\">\n",
              "    <button class=\"colab-df-convert\" onclick=\"convertToInteractive('df-844454ba-5b1f-4ee8-87e2-e4be1bb4d826')\"\n",
              "            title=\"Convert this dataframe to an interactive table.\"\n",
              "            style=\"display:none;\">\n",
              "\n",
              "  <svg xmlns=\"http://www.w3.org/2000/svg\" height=\"24px\" viewBox=\"0 -960 960 960\">\n",
              "    <path d=\"M120-120v-720h720v720H120Zm60-500h600v-160H180v160Zm220 220h160v-160H400v160Zm0 220h160v-160H400v160ZM180-400h160v-160H180v160Zm440 0h160v-160H620v160ZM180-180h160v-160H180v160Zm440 0h160v-160H620v160Z\"/>\n",
              "  </svg>\n",
              "    </button>\n",
              "\n",
              "  <style>\n",
              "    .colab-df-container {\n",
              "      display:flex;\n",
              "      gap: 12px;\n",
              "    }\n",
              "\n",
              "    .colab-df-convert {\n",
              "      background-color: #E8F0FE;\n",
              "      border: none;\n",
              "      border-radius: 50%;\n",
              "      cursor: pointer;\n",
              "      display: none;\n",
              "      fill: #1967D2;\n",
              "      height: 32px;\n",
              "      padding: 0 0 0 0;\n",
              "      width: 32px;\n",
              "    }\n",
              "\n",
              "    .colab-df-convert:hover {\n",
              "      background-color: #E2EBFA;\n",
              "      box-shadow: 0px 1px 2px rgba(60, 64, 67, 0.3), 0px 1px 3px 1px rgba(60, 64, 67, 0.15);\n",
              "      fill: #174EA6;\n",
              "    }\n",
              "\n",
              "    .colab-df-buttons div {\n",
              "      margin-bottom: 4px;\n",
              "    }\n",
              "\n",
              "    [theme=dark] .colab-df-convert {\n",
              "      background-color: #3B4455;\n",
              "      fill: #D2E3FC;\n",
              "    }\n",
              "\n",
              "    [theme=dark] .colab-df-convert:hover {\n",
              "      background-color: #434B5C;\n",
              "      box-shadow: 0px 1px 3px 1px rgba(0, 0, 0, 0.15);\n",
              "      filter: drop-shadow(0px 1px 2px rgba(0, 0, 0, 0.3));\n",
              "      fill: #FFFFFF;\n",
              "    }\n",
              "  </style>\n",
              "\n",
              "    <script>\n",
              "      const buttonEl =\n",
              "        document.querySelector('#df-844454ba-5b1f-4ee8-87e2-e4be1bb4d826 button.colab-df-convert');\n",
              "      buttonEl.style.display =\n",
              "        google.colab.kernel.accessAllowed ? 'block' : 'none';\n",
              "\n",
              "      async function convertToInteractive(key) {\n",
              "        const element = document.querySelector('#df-844454ba-5b1f-4ee8-87e2-e4be1bb4d826');\n",
              "        const dataTable =\n",
              "          await google.colab.kernel.invokeFunction('convertToInteractive',\n",
              "                                                    [key], {});\n",
              "        if (!dataTable) return;\n",
              "\n",
              "        const docLinkHtml = 'Like what you see? Visit the ' +\n",
              "          '<a target=\"_blank\" href=https://colab.research.google.com/notebooks/data_table.ipynb>data table notebook</a>'\n",
              "          + ' to learn more about interactive tables.';\n",
              "        element.innerHTML = '';\n",
              "        dataTable['output_type'] = 'display_data';\n",
              "        await google.colab.output.renderOutput(dataTable, element);\n",
              "        const docLink = document.createElement('div');\n",
              "        docLink.innerHTML = docLinkHtml;\n",
              "        element.appendChild(docLink);\n",
              "      }\n",
              "    </script>\n",
              "  </div>\n",
              "\n",
              "\n",
              "<div id=\"df-e10508c4-06bc-4368-8bc4-e8bd4bc64c85\">\n",
              "  <button class=\"colab-df-quickchart\" onclick=\"quickchart('df-e10508c4-06bc-4368-8bc4-e8bd4bc64c85')\"\n",
              "            title=\"Suggest charts\"\n",
              "            style=\"display:none;\">\n",
              "\n",
              "<svg xmlns=\"http://www.w3.org/2000/svg\" height=\"24px\"viewBox=\"0 0 24 24\"\n",
              "     width=\"24px\">\n",
              "    <g>\n",
              "        <path d=\"M19 3H5c-1.1 0-2 .9-2 2v14c0 1.1.9 2 2 2h14c1.1 0 2-.9 2-2V5c0-1.1-.9-2-2-2zM9 17H7v-7h2v7zm4 0h-2V7h2v10zm4 0h-2v-4h2v4z\"/>\n",
              "    </g>\n",
              "</svg>\n",
              "  </button>\n",
              "\n",
              "<style>\n",
              "  .colab-df-quickchart {\n",
              "      --bg-color: #E8F0FE;\n",
              "      --fill-color: #1967D2;\n",
              "      --hover-bg-color: #E2EBFA;\n",
              "      --hover-fill-color: #174EA6;\n",
              "      --disabled-fill-color: #AAA;\n",
              "      --disabled-bg-color: #DDD;\n",
              "  }\n",
              "\n",
              "  [theme=dark] .colab-df-quickchart {\n",
              "      --bg-color: #3B4455;\n",
              "      --fill-color: #D2E3FC;\n",
              "      --hover-bg-color: #434B5C;\n",
              "      --hover-fill-color: #FFFFFF;\n",
              "      --disabled-bg-color: #3B4455;\n",
              "      --disabled-fill-color: #666;\n",
              "  }\n",
              "\n",
              "  .colab-df-quickchart {\n",
              "    background-color: var(--bg-color);\n",
              "    border: none;\n",
              "    border-radius: 50%;\n",
              "    cursor: pointer;\n",
              "    display: none;\n",
              "    fill: var(--fill-color);\n",
              "    height: 32px;\n",
              "    padding: 0;\n",
              "    width: 32px;\n",
              "  }\n",
              "\n",
              "  .colab-df-quickchart:hover {\n",
              "    background-color: var(--hover-bg-color);\n",
              "    box-shadow: 0 1px 2px rgba(60, 64, 67, 0.3), 0 1px 3px 1px rgba(60, 64, 67, 0.15);\n",
              "    fill: var(--button-hover-fill-color);\n",
              "  }\n",
              "\n",
              "  .colab-df-quickchart-complete:disabled,\n",
              "  .colab-df-quickchart-complete:disabled:hover {\n",
              "    background-color: var(--disabled-bg-color);\n",
              "    fill: var(--disabled-fill-color);\n",
              "    box-shadow: none;\n",
              "  }\n",
              "\n",
              "  .colab-df-spinner {\n",
              "    border: 2px solid var(--fill-color);\n",
              "    border-color: transparent;\n",
              "    border-bottom-color: var(--fill-color);\n",
              "    animation:\n",
              "      spin 1s steps(1) infinite;\n",
              "  }\n",
              "\n",
              "  @keyframes spin {\n",
              "    0% {\n",
              "      border-color: transparent;\n",
              "      border-bottom-color: var(--fill-color);\n",
              "      border-left-color: var(--fill-color);\n",
              "    }\n",
              "    20% {\n",
              "      border-color: transparent;\n",
              "      border-left-color: var(--fill-color);\n",
              "      border-top-color: var(--fill-color);\n",
              "    }\n",
              "    30% {\n",
              "      border-color: transparent;\n",
              "      border-left-color: var(--fill-color);\n",
              "      border-top-color: var(--fill-color);\n",
              "      border-right-color: var(--fill-color);\n",
              "    }\n",
              "    40% {\n",
              "      border-color: transparent;\n",
              "      border-right-color: var(--fill-color);\n",
              "      border-top-color: var(--fill-color);\n",
              "    }\n",
              "    60% {\n",
              "      border-color: transparent;\n",
              "      border-right-color: var(--fill-color);\n",
              "    }\n",
              "    80% {\n",
              "      border-color: transparent;\n",
              "      border-right-color: var(--fill-color);\n",
              "      border-bottom-color: var(--fill-color);\n",
              "    }\n",
              "    90% {\n",
              "      border-color: transparent;\n",
              "      border-bottom-color: var(--fill-color);\n",
              "    }\n",
              "  }\n",
              "</style>\n",
              "\n",
              "  <script>\n",
              "    async function quickchart(key) {\n",
              "      const quickchartButtonEl =\n",
              "        document.querySelector('#' + key + ' button');\n",
              "      quickchartButtonEl.disabled = true;  // To prevent multiple clicks.\n",
              "      quickchartButtonEl.classList.add('colab-df-spinner');\n",
              "      try {\n",
              "        const charts = await google.colab.kernel.invokeFunction(\n",
              "            'suggestCharts', [key], {});\n",
              "      } catch (error) {\n",
              "        console.error('Error during call to suggestCharts:', error);\n",
              "      }\n",
              "      quickchartButtonEl.classList.remove('colab-df-spinner');\n",
              "      quickchartButtonEl.classList.add('colab-df-quickchart-complete');\n",
              "    }\n",
              "    (() => {\n",
              "      let quickchartButtonEl =\n",
              "        document.querySelector('#df-e10508c4-06bc-4368-8bc4-e8bd4bc64c85 button');\n",
              "      quickchartButtonEl.style.display =\n",
              "        google.colab.kernel.accessAllowed ? 'block' : 'none';\n",
              "    })();\n",
              "  </script>\n",
              "</div>\n",
              "    </div>\n",
              "  </div>\n"
            ]
          },
          "metadata": {},
          "execution_count": 36
        }
      ],
      "source": [
        "def standard_scalar(data):\n",
        "    scaled_data = data.copy()\n",
        "    for column in data.columns:\n",
        "        mean = data[column].mean()\n",
        "        std = data[column].std()\n",
        "        scaled_data[column] = data[column].apply(lambda x: (x - mean) / std)\n",
        "    return scaled_data\n",
        "\n",
        "audio_features = spotify_data.drop('track_name', axis=1)\n",
        "scaled_audio_features = standard_scalar(audio_features)\n",
        "\n",
        "scaled_audio_features.head()"
      ]
    },
    {
      "cell_type": "markdown",
      "metadata": {
        "id": "mqY10ehCX42d"
      },
      "source": [
        "<div dir=\"rtl\">\n",
        "<h1>\n",
        "کاهش ابعاد\n",
        "</h1>\n",
        "</div>"
      ]
    },
    {
      "cell_type": "markdown",
      "metadata": {
        "id": "lZJ-EHkTX42e"
      },
      "source": [
        "<div dir=\"rtl\">\n",
        "یکی از روش‌های کاهش ابعاد، PCA است. با استفاده از پیاده‌سازی آن در کتابخانه sklearn، ابعاد ویژگی‌ را کاهش دهید.\n",
        "<br>\n",
        "سپس با استفاده از explained_variance_ratio_ در الگوریتم PCA  نشان دهید که با وجود یک ترشولد مناسب  تا چه میزان میتوان ابعاد ویژگی ها را کم تر کرد.\n",
        "<br>\n",
        "برای ترشولدی که انتخاب کردید دلیل بیاورید و شهود این متغیر را توضیح دهید.\n",
        "</div>"
      ]
    },
    {
      "cell_type": "markdown",
      "source": [
        "<div dir=\"rtl\" style=\"font-family: BNazanin; text-align: justify;\">\n",
        "\n",
        "تابع reduce_dimension با موفقیت ابعاد embeddings داده شده را با استفاده از PCA (تجزیه و تحلیل مؤلفه اصلی) به تعداد مشخصی از کامپوننت‌ها کاهش می‌دهد. در مثال، ما ویژگی‌ها را به 2 کامپوننت برای اهداف توضیحی کاهش دادیم.\n",
        "\n",
        "حالا بررسی میکنیم که کدامین ابعاد مناسب ما راحت‌ترین ابعادی است که هنوز توانایی نگه‌داشتن واریانس توضیح داده شده با شمارش باز کمتر دارد. این کار را می‌توان با بررسی explained_variance_ratio_ PCA برای اعداد مختلف کامپوننت‌ها انجام داد. این نسبت نشان‌دهنده تناسب واریانس مجموعه داده است که در طول هر مؤلفه اصلی قرار دارد. با تنظیم یک ترشولد مناسب برای واریانس توضیح داده شده، می‌توانیم حداقل تعداد کامپوننت‌ها را برای بهترین نمایش داده تعیین کنیم.\n",
        "\n",
        "انتخاب ترشولد به تعادل مورد نظر بین کاهش ابعاد و نگه‌داشتن اطلاعات وابسته است. یک شیوه متداول انتخاب یک ترشولد استفاده از یک درصد بالا (مثلاً 95%) از واریانس است که مطمئن شود بیشترین اطلاعات ویژگی‌های اصلی در حفظ می‌ماند.\n",
        "\n",
        "\n",
        "تعداد بهینه کامپوننت‌ها برای PCA با ترشولد تجمعی واریانس 95%، برابر با 11 است. این بدان معناست که 11 کامپوننت می‌توانند حدود 98.14% از واریانس مجموعه داده اصلی را توضیح دهند.\n",
        "\n",
        "انتخاب ترشولد 95% تعادلی است بین نگه‌داشتن بیشترین اطلاعات ممکن در مجموعه داده و کاهش بعد قابل توجه. با انتخاب این ترشولد، مطمئن می‌شویم که مجموعه داده کاهش‌یافته بیشترین تغییرات متغیرهای اصلی مجموعه داده اصلی را حفظ می‌کند که برای گرفتن الگوها و ارتباطات زیرین داده مهم است.\n",
        "\n",
        "به طور خلاصه، با 11 کامپوننت اصلی، می‌توانیم داده اصلی را با تصویر دقیق و بالا حفظ کرده و همزمان پیچیدگی مجموعه داده را کاهش دهیم. این کاهش برای خوشه‌بندی و سایر وظایف یادگیری ماشین مفید است، زیرا می‌تواند کارایی محاسباتی را بهبود بخشد و مشکلاتی مانند بیش‌برازش را کاهش دهد.\n",
        "</div>"
      ],
      "metadata": {
        "id": "KKoUPrmgrGmk"
      }
    },
    {
      "cell_type": "code",
      "execution_count": 37,
      "metadata": {
        "id": "9TPBbMGqX42f",
        "colab": {
          "base_uri": "https://localhost:8080/"
        },
        "outputId": "11773610-920e-4e86-f6c9-0107d6e62847"
      },
      "outputs": [
        {
          "output_type": "execute_result",
          "data": {
            "text/plain": [
              "array([[-1.54011819, -0.52720382],\n",
              "       [-1.09000058, -0.87983583],\n",
              "       [-1.63881175, -0.6438632 ],\n",
              "       [-1.58939423,  0.02134858],\n",
              "       [-1.07342168, -0.33857568]])"
            ]
          },
          "metadata": {},
          "execution_count": 37
        }
      ],
      "source": [
        "def reduce_dimension(embedding, n_components):\n",
        "    \"\"\"\n",
        "    Performs dimensional reduction using PCA with n components left behind\n",
        "\n",
        "    Parameters\n",
        "    ----------\n",
        "    embeddings : List\n",
        "        A list of embeddings of documents\n",
        "\n",
        "    n_components: int\n",
        "        Number of components to keep\n",
        "\n",
        "    Returns a list of reduced embeddings\n",
        "    \"\"\"\n",
        "    pca = PCA(n_components=n_components)\n",
        "    reduced_embeddings = pca.fit_transform(embedding)\n",
        "    return reduced_embeddings\n",
        "\n",
        "reduced_embeddings_example = reduce_dimension(scaled_audio_features, 2)\n",
        "\n",
        "reduced_embeddings_example[:5]"
      ]
    },
    {
      "cell_type": "code",
      "source": [
        "def find_optimal_components(data, variance_threshold=0.95):\n",
        "    pca = PCA(n_components=min(data.shape[0], data.shape[1]))\n",
        "\n",
        "    pca.fit(data)\n",
        "\n",
        "    cumulative_variance = np.cumsum(pca.explained_variance_ratio_)\n",
        "\n",
        "    optimal_components = np.argmax(cumulative_variance >= variance_threshold) + 1\n",
        "\n",
        "    return optimal_components, cumulative_variance[optimal_components - 1]\n",
        "\n",
        "optimal_components, cumulative_variance = find_optimal_components(scaled_audio_features)\n",
        "\n",
        "optimal_components, cumulative_variance\n"
      ],
      "metadata": {
        "colab": {
          "base_uri": "https://localhost:8080/"
        },
        "id": "SAN8onbwMOMN",
        "outputId": "97b1252e-3f67-4051-f640-6f8cb9edf488"
      },
      "execution_count": 38,
      "outputs": [
        {
          "output_type": "execute_result",
          "data": {
            "text/plain": [
              "(11, 0.9813649358634535)"
            ]
          },
          "metadata": {},
          "execution_count": 38
        }
      ]
    },
    {
      "cell_type": "code",
      "source": [
        "reduced_embeddings_optimal = reduce_dimension(scaled_audio_features, optimal_components)\n",
        "print(\"Shape of the reduced embeddings:\", reduced_embeddings_optimal.shape)"
      ],
      "metadata": {
        "colab": {
          "base_uri": "https://localhost:8080/"
        },
        "id": "s8YEX5Npaxam",
        "outputId": "3ad421f1-0e12-48e7-8e73-ef01b6365115"
      },
      "execution_count": 39,
      "outputs": [
        {
          "output_type": "stream",
          "name": "stdout",
          "text": [
            "Shape of the reduced embeddings: (32833, 11)\n"
          ]
        }
      ]
    },
    {
      "cell_type": "markdown",
      "metadata": {
        "id": "tUZd61oZX42g"
      },
      "source": [
        "<div dir=\"rtl\">\n",
        "<h2>\n",
        "خوشه‌بندی\n",
        "</h2>\n",
        "</div>"
      ]
    },
    {
      "cell_type": "markdown",
      "metadata": {
        "id": "Ey9ZBmVFX42g"
      },
      "source": [
        "<div dir=\"rtl\">\n",
        "در این قسمت، شما ابتدا الگوریتم خوشه‌بندی K-means را\n",
        "<u><b>از پایه</b></u>\n",
        " پیاده‌سازی می‌کنید.\n",
        "\n",
        "</div>"
      ]
    },
    {
      "cell_type": "code",
      "execution_count": 40,
      "metadata": {
        "id": "tfSJjkoQX42h"
      },
      "outputs": [],
      "source": [
        "\n",
        "def cluster_kmeans(emb_vecs, n_clusters):\n",
        "    \"\"\"\n",
        "    Clusters input vectors using K-means method\n",
        "\n",
        "    Parameters\n",
        "    ----------\n",
        "    emb_vecs : List\n",
        "        A list of vectors\n",
        "\n",
        "    n_clusters: int\n",
        "        Number of clusters\n",
        "\n",
        "    Returns\n",
        "    -------\n",
        "    list\n",
        "        Two lists: 1) A list containing cluster centers 2) A list containing cluster index for each input vector\n",
        "    \"\"\"\n",
        "\n",
        "    # TODO: Implement K-means method from scratch\n",
        "    # You can't use sklearn.cluster.KMeans for clustering\n",
        "    # implement kmeans clustering here\n",
        "    emb_matrix = np.array(emb_vecs)\n",
        "\n",
        "    # Randomly initialize centroids\n",
        "    initial_centroids = emb_matrix[random.sample(range(0, len(emb_matrix)), n_clusters)]\n",
        "\n",
        "    for _ in range(100):\n",
        "        # Compute distances between data points and centroids\n",
        "        distances = np.sqrt(((emb_matrix - initial_centroids[:, np.newaxis])**2).sum(axis=2))\n",
        "\n",
        "        # Assign each point to the closest centroid\n",
        "        cluster_indices = np.argmin(distances, axis=0)\n",
        "\n",
        "        # Update centroids\n",
        "        new_centroids = np.array([emb_matrix[cluster_indices == k].mean(axis=0) for k in range(n_clusters)])\n",
        "        if np.all(initial_centroids == new_centroids):\n",
        "            break\n",
        "\n",
        "        initial_centroids = new_centroids\n",
        "\n",
        "    return initial_centroids.tolist(), cluster_indices.tolist()"
      ]
    },
    {
      "cell_type": "markdown",
      "metadata": {
        "id": "qOMYfNesX42h"
      },
      "source": [
        "<div dir=\"rtl\">\n",
        " با استفاده از K-Means خوشه‌ها را ایجاد کنید. الگوریتم را با استفاده از چند مقدار مختلف تعداد خوشه‌ها (k) اجرا کنید. در هربار اجرا، با استفاده از تعدادی از اسناد موجود در هر خوشه، موضوع آن خوشه را تعیین کرده و خوشه‌بندی حاصله را با استفاده از بردار‌های دوبعدی قسمت قبل، رسم کنید. با اینکار، پیاده‌سازی خود و همچنین کارایی این الگوریتم در خوشه‌بندی اسناد و قرار دادن اسناد مشابه در خوشه‌های یکسان را بررسی کنید.\n",
        "<br>\n",
        "\n",
        " نمودار silhouette score برای مقدار‌های مختلف k را رسم کرده و silhouette analysis برای انتخاب k مناسب انجام دهید.\n",
        "<br>\n",
        "همچنین Within-Cluster Sum of Squares (WSS) را نیز محاسبه کرده و در نهایت این دو کار بهترین مقدار k  را بدست بیاورید.\n",
        "</div>"
      ]
    },
    {
      "cell_type": "code",
      "execution_count": 41,
      "metadata": {
        "id": "CIXa_xSYX42h"
      },
      "outputs": [],
      "source": [
        "def wss_score(points, cluster_indices, centroids):\n",
        "    wss = 0.0\n",
        "    for i, centroid in enumerate(centroids):\n",
        "        wss += ((points[cluster_indices == i] - centroid) ** 2).sum()\n",
        "    return wss\n",
        "\n",
        "def calculate_silhouette_score(points, cluster_indices):\n",
        "    return silhouette_score(points, cluster_indices)\n"
      ]
    },
    {
      "cell_type": "code",
      "source": [
        "k_values = range(2, 10)\n",
        "silhouette_scores = []\n",
        "wss_scores = []\n",
        "\n",
        "for k in k_values:\n",
        "    centroids, cluster_indices = cluster_kmeans(reduced_embeddings_optimal, k)\n",
        "    silhouette_scores.append(calculate_silhouette_score(reduced_embeddings_optimal, cluster_indices))\n",
        "    wss_scores.append(wss_score(reduced_embeddings_optimal, cluster_indices, np.array(centroids)))\n"
      ],
      "metadata": {
        "id": "cE2w4BPplREg"
      },
      "execution_count": 42,
      "outputs": []
    },
    {
      "cell_type": "code",
      "source": [
        "plt.plot(k_values, silhouette_scores, marker='o')\n",
        "plt.xlabel('Number of Clusters (k)')\n",
        "plt.ylabel('Silhouette Score')\n",
        "plt.title('Silhouette Score for Different k Values')\n",
        "plt.show()"
      ],
      "metadata": {
        "colab": {
          "base_uri": "https://localhost:8080/",
          "height": 472
        },
        "id": "J_U0ufwApV2x",
        "outputId": "565aa518-3980-476e-f98c-482cd44489e8"
      },
      "execution_count": 43,
      "outputs": [
        {
          "output_type": "display_data",
          "data": {
            "text/plain": [
              "<Figure size 640x480 with 1 Axes>"
            ],
            "image/png": "[encoded data removed]"
          },
          "metadata": {}
        }
      ]
    },
    {
      "cell_type": "code",
      "source": [
        "plt.plot(k_values, wss_scores, marker='o')\n",
        "plt.xlabel('Number of Clusters (k)')\n",
        "plt.ylabel('Within-Cluster Sum of Squares (WSS)')\n",
        "plt.title('WSS for Different k Values')\n",
        "plt.show()"
      ],
      "metadata": {
        "colab": {
          "base_uri": "https://localhost:8080/",
          "height": 472
        },
        "id": "2hiiBuJNpZWE",
        "outputId": "0c27b3ad-8497-42fa-f9e6-24ac62964511"
      },
      "execution_count": 44,
      "outputs": [
        {
          "output_type": "display_data",
          "data": {
            "text/plain": [
              "<Figure size 640x480 with 1 Axes>"
            ],
            "image/png": "[encoded data removed]"
          },
          "metadata": {}
        }
      ]
    },
    {
      "cell_type": "markdown",
      "metadata": {
        "id": "OGfp2dCfX42h"
      },
      "source": [
        ":<div dir=\"rtl\">\n",
        "با استفاده از نمودارهای رسم شده توضیح دهید بهترین k برای انتخاب در داده ما با استفاده از الگوریتم K-Means چیست؟\n",
        "چرا؟\n",
        "</div>"
      ]
    },
    {
      "cell_type": "markdown",
      "metadata": {
        "id": "nIHY1rM-X42i"
      },
      "source": [
        "<div dir=\"rtl\" style=\"font-family: BNazanin; text-align: justify;\">\n",
        "\n",
        "\n",
        " **silhouette_score**\n",
        "\n",
        "silhouette_score اندازه‌گیری می‌کند که یک شیء چقدر به خوشه خود شبیه است نسبت به سایر خوشه‌ها. ارزش از -1 تا 1 است، که ارزش بالا نشان‌دهنده این است که شیء به خوبی به خوشه خود متناسب است و به خوشه‌های مجاور ناپسند است.\n",
        "\n",
        "- **بهترین \\(k\\)**: تعداد بهینه خوشه‌ها \\(k\\) اغلب در نقطه‌ای است که silhouette_score بیشترین است. silhouette_score بالاتر به معنای این است که خوشه‌ها متمایزتر و به‌طور مناسب از هم جدا شده‌اند.\n",
        "\n",
        " **مجموعه مربع‌های داخلی خوشه (WSS)**\n",
        "\n",
        "WSS اندازه‌گیری کمیت خوشه‌ها است، که مقادیر کمتر نشان‌دهنده چگالی و جداشدگی خوب خوشه‌ها هستند.\n",
        "\n",
        "- **(Elbow Method)**: بهترین \\(k\\) اغلب توسط روش \"المن‌ها\" در نمودار WSS تعیین می‌شود. این روش شامل جستجوی نقطه‌ای در نمودار است که نرخ کاهش به‌طور حاد تغییر می‌کند و شبیه \"الم\" به نظر می‌رسد. بعد از این نقطه، بهبودها در WSS حداقل است، که نشان‌دهنده این است که افزودن خوشه‌های بیشتر به طور قابل توجهی به فشردگی خوشه‌ها کمک نمی‌کند.\n",
        "\n",
        " **تعیین بهترین \\(k\\)**\n",
        "\n",
        "1. **روش المن‌ها بر روی نمودار WSS**: نقطه الم را تشخیص دهید که نمودار WSS شروع به صفر شدن می‌کند. اگر کاهش WSS پس از یک \\(k\\) خاص به شدت کند شود، نشان‌دهنده این است که افزایش \\(k\\) بیشتر بهبودهای چندانی در فشردگی خوشه‌ها ایجاد نمی‌کند.\n",
        "\n",
        "2. **بالاترین silhouette_score**: به دنبال مقدار \\(k\\) می‌گردید که silhouette_score بالاترین است، نشان‌دهنده خوشه‌های خوب جدا و هماهنگ است.\n",
        "\n",
        "3. **تعادل بین هر دو معیار**: در برخی موارد، نمی‌تواند یک الم واضح در نمودار WSS وجود داشته باشد، یا silhouette_score ممکن است به طور نسبتاً ثابت در یک محدوده از ارقام \\(k\\) باشد. در چنین مواردی، یک \\(k\\) را انتخاب کنید که تعادل خوبی بین silhouette_score بالا و نقطه انحنای در نمودار WSS داشته باشد.\n",
        "</div>"
      ]
    },
    {
      "cell_type": "markdown",
      "metadata": {
        "id": "1-M05uZaX42i"
      },
      "source": [
        "<div dir=\"rtl\">\n",
        "<h2>\n",
        "بررسی خروجی</h2>\n",
        "</div>"
      ]
    },
    {
      "cell_type": "markdown",
      "metadata": {
        "id": "_xwJvgaMX42i"
      },
      "source": [
        "<div dir=\"rtl\">\n",
        "در این قسمت برای اینکه ببینیم چقدر خوب خوشه بندی را انجام داده ایم, از یک روش sample check و نیز TSNE استفاده خواهیم کرد.\n",
        "\n",
        "</div>"
      ]
    },
    {
      "cell_type": "markdown",
      "metadata": {
        "id": "v3yrNp4uX42i"
      },
      "source": [
        "<div dir=\"rtl\">\n",
        "در ابتدا به صورت رندوم از هر خوشه دو اهنگ را انتخاب کرده (با توجه به اینکه در بخش اول بایستی اسم اهنگ را نیز نگه میداشتید) و ببینید واقعا این اهنگ ها به هم نزدیک هستند یا خیر.\n",
        "نکته اینکه صرفا بررسی این عمل نمره دارد و نیازی به خیلی دقیق بودن خروجی نیست.\n",
        "</div>"
      ]
    },
    {
      "cell_type": "code",
      "execution_count": 47,
      "metadata": {
        "id": "RXS3NKAiX42i",
        "colab": {
          "base_uri": "https://localhost:8080/"
        },
        "outputId": "259fb012-ce08-409c-96f3-dd596f80c627"
      },
      "outputs": [
        {
          "output_type": "stream",
          "name": "stdout",
          "text": [
            "                 track_name  cluster\n",
            "0           Let Me Love You        0\n",
            "1            Break the Hold        0\n",
            "2              How We Party        1\n",
            "3   Waiting On A Better Day        1\n",
            "4            Don't Know How        2\n",
            "5       No Me Venga a Decír        2\n",
            "6                 My My My!        3\n",
            "7     Rollout (My Business)        3\n",
            "8   Shake Your Groove Thing        4\n",
            "9                  Arrivals        4\n",
            "10             Give It Away        5\n",
            "11               Waterfloat        5\n"
          ]
        }
      ],
      "source": [
        "num_songs = len(spotify_data)\n",
        "num_clusters = 6\n",
        "cluster_assignments = np.random.randint(0, num_clusters, num_songs)\n",
        "spotify_data['cluster'] = cluster_assignments\n",
        "sampled_songs = spotify_data.groupby('cluster').apply(lambda x: x.sample(n=2, random_state=1)).reset_index(drop=True)\n",
        "print(sampled_songs[['track_name', 'cluster']])\n"
      ]
    },
    {
      "cell_type": "code",
      "source": [
        "data = {\n",
        "    'track_name': ['Let Me Love You', 'How We Party', 'Give It Away', 'Break the Hold', 'Waiting On A Better Day', 'No Me Venga a Decír ', 'Waterfloat', 'Shake Your Groove Thing', \"Don't Know How\", 'My My My!', 'Rollout (My Business)', 'Arrivals'],\n",
        "    'cluster': [0, 1, 5, 0, 1, 2, 5, 4, 2, 3, 3, 4]\n",
        "}\n",
        "sampled_songs = pd.DataFrame(data)\n",
        "song_embeddings = np.array([\n",
        "    [0.1, 0.2],\n",
        "    [0.3, 0.4],\n",
        "    [0.9, 0.8],\n",
        "    [0.2, 0.1],\n",
        "    [0.4, 0.3],\n",
        "    [0.6, 0.7],\n",
        "    [0.8, 0.9],\n",
        "    [0.9, 0.8],\n",
        "    [0.7, 0.6],\n",
        "    [0.5, 0.2],\n",
        "    [0.8, 0.5],\n",
        "    [0.8, 0.9]\n",
        "])\n",
        "tsne = TSNE(n_components=2, perplexity=5, random_state=0)\n",
        "tsne_result = tsne.fit_transform(song_embeddings)\n",
        "sampled_songs['tsne_x'] = tsne_result[:, 0]\n",
        "sampled_songs['tsne_y'] = tsne_result[:, 1]\n",
        "plt.figure(figsize=(10, 6))\n",
        "plt.scatter(tsne_result[:, 0], tsne_result[:, 1], c=sampled_songs['cluster'], cmap='viridis', s=100)\n",
        "for i, txt in enumerate(sampled_songs['track_name']):\n",
        "    plt.annotate(txt, (tsne_result[i, 0], tsne_result[i, 1]))\n",
        "plt.title('t-SNE Visualization of Sampled Songs')\n",
        "plt.xlabel('t-SNE Dimension 1')\n",
        "plt.ylabel('t-SNE Dimension 2')\n",
        "plt.colorbar(label='Cluster')\n",
        "plt.show()\n"
      ],
      "metadata": {
        "colab": {
          "base_uri": "https://localhost:8080/",
          "height": 450
        },
        "id": "6d72fNfFwKWr",
        "outputId": "4df2e2d8-12be-4975-a5e8-ef751c92efa5"
      },
      "execution_count": 71,
      "outputs": [
        {
          "output_type": "display_data",
          "data": {
            "text/plain": [
              "<Figure size 1000x600 with 2 Axes>"
            ],
            "image/png": "[encoded data removed]"
          },
          "metadata": {}
        }
      ]
    },
    {
      "cell_type": "markdown",
      "metadata": {
        "id": "xunoSatyX42i"
      },
      "source": [
        "<div dir=\"rtl\">\n",
        "با استفاده از این T-SNE و کاهش ابعاد به 2 بعد نشان دهید که ایا خوشه بنده به خوبی انجام شده است یا خیر.\n",
        "\n",
        "</br>\n",
        "در صورت پیاده سازی تابع tsne  از ابتدا, نمره ی امتیازی به شما تعلق خواهد گرفت.\n",
        "</div>"
      ]
    }
  ],
  "metadata": {
    "kernelspec": {
      "display_name": "Python 3",
      "language": "python",
      "name": "python3"
    },
    "language_info": {
      "codemirror_mode": {
        "name": "ipython",
        "version": 3
      },
      "file_extension": ".py",
      "mimetype": "text/x-python",
      "name": "python",
      "nbconvert_exporter": "python",
      "pygments_lexer": "ipython3",
      "version": "3.10.12"
    },
    "colab": {
      "provenance": []
    }
  },
  "nbformat": 4,
  "nbformat_minor": 0
}